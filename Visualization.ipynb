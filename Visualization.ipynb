{
 "cells": [
  {
   "cell_type": "code",
   "execution_count": null,
   "metadata": {},
   "outputs": [],
   "source": [
    "import pandas as pd\n",
    "import numpy as np\n",
    "import matplotlib.pyplot as plt \n",
    "%matplotlib inline \n",
    "import matplotlib as mpl\n",
    "import pylab\n",
    "\n",
    "mpl.rcParams['lines.linewidth'] = 4\n",
    "mpl.rcParams['lines.color'] = 'r'\n",
    "mpl.rcParams['font.weight'] = 200\n",
    "plt.style.use('seaborn-whitegrid')\n",
    "plt.rc('figure',figsize=(20,10))\n",
    "mpl.axes.Axes.annotate\n",
    "mpl.rcParams['font.family'] = \"serif\"\n",
    "pylab.rcParams['ytick.major.pad']='10'\n",
    "pylab.rcParams['xtick.major.pad']='10'\n",
    "mpl.rcParams['font.weight'] = \"semibold\"\n",
    "mpl.rcParams['axes.labelsize'] = 20\n",
    "mpl.rcParams['axes.linewidth'] = 4\n",
    "mpl.rcParams['xtick.labelsize'] = 20\n",
    "mpl.rcParams['ytick.labelsize'] = 20\n",
    "mpl.rcParams['axes.edgecolor'] = 'black'\n",
    "mpl.rcParams['axes.titlesize'] = 20\n",
    "mpl.rcParams['legend.fontsize'] = 14"
   ]
  },
  {
   "cell_type": "markdown",
   "metadata": {},
   "source": [
    "# Violin Plots"
   ]
  },
  {
   "cell_type": "code",
   "execution_count": null,
   "metadata": {},
   "outputs": [],
   "source": [
    "Player1 = pd.read_csv(\"Scoring Results/Error_Score1.csv\",header=None)\n",
    "Player1.columns = [\"Score1\"]\n",
    "Player2 = pd.read_csv(\"Scoring Results/Error_Score2.csv\",header=None)\n",
    "Player2.columns = [\"Score2\"]\n",
    "Player3 = pd.read_csv(\"Scoring Results/Error_Score3.csv\",header=None)\n",
    "Player3.columns = [\"Score3\"]\n",
    "Player4 = pd.read_csv(\"Scoring Results/Error_Score4.csv\",header=None)\n",
    "Player4.columns = [\"Score4\"]"
   ]
  },
  {
   "cell_type": "code",
   "execution_count": null,
   "metadata": {},
   "outputs": [],
   "source": [
    "fig, ax = plt.subplots(figsize=(22,12))\n",
    "\n",
    "ax.violinplot([Player1[\"Score1\"], Player2[\"Score2\"], Player3[\"Score3\"], Player4[\"Score4\"]][::-1],\n",
    "                positions =[4,3,2,1],vert=True,widths=0.85,showmedians=False, showmeans=False)\n",
    "\n",
    "        \n",
    "def set_axis_style(ax, labels):\n",
    "    ax.set_facecolor('ivory')\n",
    "    ax.xaxis.set_ticks_position('bottom')\n",
    "    ax.set_xticks(np.arange(1, len(labels) +1 ))\n",
    "    ax.set_xticklabels(labels)\n",
    "    ax.set_xlim(0.55, len(labels) + 0.55)\n",
    "    ax.set_ylabel('Raw Score', fontweight='semibold')\n",
    "    ax.set_xlabel('Uncontrolled Setting', fontweight='semibold')\n",
    "    \n",
    "set_axis_style(ax,['Player 1','Player 2','Player 3','Player 4'][::-1])\n",
    "plt.tight_layout()\n",
    "plt.savefig(\"Scoring Results/Score_Raw_Score.png\", format='png',dpi=300,bbox_inches='tight')\n",
    "plt.show()"
   ]
  },
  {
   "cell_type": "code",
   "execution_count": null,
   "metadata": {},
   "outputs": [],
   "source": []
  }
 ],
 "metadata": {
  "kernelspec": {
   "display_name": "Python 3",
   "language": "python",
   "name": "python3"
  },
  "language_info": {
   "codemirror_mode": {
    "name": "ipython",
    "version": 3
   },
   "file_extension": ".py",
   "mimetype": "text/x-python",
   "name": "python",
   "nbconvert_exporter": "python",
   "pygments_lexer": "ipython3",
   "version": "3.6.9"
  },
  "toc": {
   "base_numbering": 1,
   "nav_menu": {},
   "number_sections": true,
   "sideBar": true,
   "skip_h1_title": false,
   "title_cell": "Table of Contents",
   "title_sidebar": "Contents",
   "toc_cell": false,
   "toc_position": {},
   "toc_section_display": true,
   "toc_window_display": false
  }
 },
 "nbformat": 4,
 "nbformat_minor": 4
}
