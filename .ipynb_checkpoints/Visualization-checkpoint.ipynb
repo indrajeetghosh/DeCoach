{
 "cells": [
  {
   "cell_type": "code",
   "execution_count": null,
   "metadata": {},
   "outputs": [],
   "source": [
    "import pandas as pd\n",
    "import numpy as np\n",
    "import matplotlib.pyplot as plt \n",
    "%matplotlib inline \n",
    "import matplotlib as mpl\n",
    "import pylab\n",
    "\n",
    "mpl.rcParams['lines.linewidth'] = 4\n",
    "mpl.rcParams['lines.color'] = 'r'\n",
    "mpl.rcParams['font.weight'] = 200\n",
    "plt.style.use('seaborn-whitegrid')\n",
    "plt.rc('figure',figsize=(20,10))\n",
    "mpl.axes.Axes.annotate\n",
    "mpl.rcParams['font.family'] = \"serif\"\n",
    "pylab.rcParams['ytick.major.pad']='10'\n",
    "pylab.rcParams['xtick.major.pad']='10'\n",
    "mpl.rcParams['font.weight'] = \"semibold\"\n",
    "mpl.rcParams['axes.labelsize'] = 20\n",
    "mpl.rcParams['axes.linewidth'] = 4\n",
    "mpl.rcParams['xtick.labelsize'] = 20\n",
    "mpl.rcParams['ytick.labelsize'] = 20\n",
    "mpl.rcParams['axes.edgecolor'] = 'black'\n",
    "mpl.rcParams['axes.titlesize'] = 20\n",
    "mpl.rcParams['legend.fontsize'] = 14"
   ]
  },
  {
   "cell_type": "markdown",
   "metadata": {},
   "source": [
    "# Accuracy Plots"
   ]
  },
  {
   "cell_type": "code",
   "execution_count": null,
   "metadata": {},
   "outputs": [],
   "source": [
    "DT = [62.6, 62, 63, 63, 63.32, 63.32]\n",
    "RF = [79.7, 80, 80, 80, 80, 80]\n",
    "SVM = [57.82, 58, 58, 58, 57.5, 57.0]\n",
    "MLP = [50.05, 51, 50, 50, 49.6, 49.7]\n",
    "CNN = [95.21, 95, 95, 95, 94.9, 95.3]\n",
    "\n",
    "labels = ['Accuracy' , 'Precision', 'Recall','F1 Score','Informedness','Markedness']\n",
    "\n",
    "barWidth = 0.18\n",
    "r1 = np.arange(len(DT))\n",
    "r2 = [x + barWidth for x in r1]\n",
    "r3 = [x + barWidth for x in r2]\n",
    "r4 = [x + barWidth for x in r3]\n",
    "r5 = [x + barWidth for x in r4]\n",
    "\n",
    "fig, ax = plt.subplots()\n",
    "rects1 = ax.bar(r1, DT, width=barWidth, edgecolor='black',linewidth=2, label='DT',color = 'lightblue')\n",
    "rects2 = ax.bar(r2, RF, width=barWidth, edgecolor='black', linewidth=2,label='RF',color= 'lightsalmon')\n",
    "rects3 = ax.bar(r3, SVM, width=barWidth, edgecolor='black', label='SVM',linewidth=2)\n",
    "rects4 = ax.bar(r4, MLP, width=barWidth, edgecolor='black', label='MLP',linewidth=2,color= 'cyan')\n",
    "rects5 = ax.bar(r5, CNN, width=barWidth, edgecolor='black', label='CNN',linewidth=2, color ='lightgreen')\n",
    "\n",
    "# Add text for labels, title and custom x-axis tick labels\n",
    "ax.set_ylabel('Percentage',fontweight='bold',fontsize=28)\n",
    "ax.set_xticks(r1)\n",
    "plt.xticks([r + barWidth for r in range(len(r1))], ['Accuracy', 'Precision', 'Recall', 'F1 Score','Informedness','Markedness'],fontweight='bold',fontsize=20, rotation = 45)\n",
    "ax.legend(loc='upper left', prop={'weight':'bold','size': 15})\n",
    "\n",
    "\n",
    "\n",
    "def autolabel(rects):\n",
    "    for rect in rects:\n",
    "        height = rect.get_height()\n",
    "        ax.annotate('{}'.format(height),\n",
    "                    xy=(rect.get_x() + rect.get_width() / 2, height),\n",
    "                    xytext=(0, 1),  # 3 points vertical offset\n",
    "                    textcoords=\"offset points\",\n",
    "                    ha='center', va='bottom',fontsize=17, fontweight='bold' )\n",
    "\n",
    "\n",
    "autolabel(rects1)\n",
    "autolabel(rects2)\n",
    "autolabel(rects3)\n",
    "autolabel(rects4)\n",
    "autolabel(rects5)\n",
    "\n",
    "fig.tight_layout(pad=2.9, w_pad=4.0, h_pad=4.0)\n",
    "\n",
    "plt.show()\n",
    "#plt.savefig(\"Accuracy.png\", format='png',bbox_inches='tight', pad_inches=0,dpi=300)"
   ]
  },
  {
   "cell_type": "markdown",
   "metadata": {},
   "source": [
    "# Violin Plots"
   ]
  },
  {
   "cell_type": "code",
   "execution_count": null,
   "metadata": {},
   "outputs": [],
   "source": [
    "Player1 = pd.read_csv(\"Scoring Results/Error_Score1.csv\",header=None)\n",
    "Player1.columns = [\"Score1\"]\n",
    "Player2 = pd.read_csv(\"Scoring Results/Error_Score2.csv\",header=None)\n",
    "Player2.columns = [\"Score2\"]\n",
    "Player3 = pd.read_csv(\"Scoring Results/Error_Score3.csv\",header=None)\n",
    "Player3.columns = [\"Score3\"]\n",
    "Player4 = pd.read_csv(\"Scoring Results/Error_Score4.csv\",header=None)\n",
    "Player4.columns = [\"Score4\"]"
   ]
  },
  {
   "cell_type": "code",
   "execution_count": null,
   "metadata": {},
   "outputs": [],
   "source": [
    "fig, ax = plt.subplots(figsize=(22,12))\n",
    "\n",
    "ax.violinplot([Player1[\"Score1\"], Player2[\"Score2\"], Player3[\"Score3\"], Player4[\"Score4\"]][::-1],\n",
    "                positions =[4,3,2,1],vert=True,widths=0.85,showmedians=False, showmeans=False)\n",
    "\n",
    "        \n",
    "def set_axis_style(ax, labels):\n",
    "    ax.set_facecolor('ivory')\n",
    "    ax.xaxis.set_ticks_position('bottom')\n",
    "    ax.set_xticks(np.arange(1, len(labels) +1 ))\n",
    "    ax.set_xticklabels(labels)\n",
    "    ax.set_xlim(0.55, len(labels) + 0.55)\n",
    "    ax.set_ylabel('Raw Score', fontweight='semibold')\n",
    "    ax.set_xlabel('Uncontrolled Setting', fontweight='semibold')\n",
    "    \n",
    "set_axis_style(ax,['Player 1','Player 2','Player 3','Player 4'][::-1])\n",
    "plt.tight_layout()\n",
    "plt.savefig(\"Scoring Results/Score_Raw_Score.png\", format='png',dpi=300,bbox_inches='tight')\n",
    "plt.show()"
   ]
  },
  {
   "cell_type": "code",
   "execution_count": null,
   "metadata": {},
   "outputs": [],
   "source": []
  },
  {
   "cell_type": "code",
   "execution_count": null,
   "metadata": {},
   "outputs": [],
   "source": []
  }
 ],
 "metadata": {
  "kernelspec": {
   "display_name": "Python 3",
   "language": "python",
   "name": "python3"
  },
  "language_info": {
   "codemirror_mode": {
    "name": "ipython",
    "version": 3
   },
   "file_extension": ".py",
   "mimetype": "text/x-python",
   "name": "python",
   "nbconvert_exporter": "python",
   "pygments_lexer": "ipython3",
   "version": "3.6.9"
  },
  "toc": {
   "base_numbering": 1,
   "nav_menu": {},
   "number_sections": true,
   "sideBar": true,
   "skip_h1_title": false,
   "title_cell": "Table of Contents",
   "title_sidebar": "Contents",
   "toc_cell": false,
   "toc_position": {},
   "toc_section_display": true,
   "toc_window_display": false
  }
 },
 "nbformat": 4,
 "nbformat_minor": 4
}
