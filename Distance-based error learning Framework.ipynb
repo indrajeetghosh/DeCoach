{
 "cells": [
  {
   "cell_type": "code",
   "execution_count": 4,
   "metadata": {
    "ExecuteTime": {
     "end_time": "2021-05-25T20:17:38.991272Z",
     "start_time": "2021-05-25T20:17:37.972438Z"
    }
   },
   "outputs": [],
   "source": [
    "import pandas as pd \n",
    "import numpy as np \n",
    "from sklearn.preprocessing import StandardScaler \n",
    "from sklearn import preprocessing \n",
    "import itertools \n",
    "import signal\n",
    "from random import seed\n",
    "from random import randrange\n",
    "from sklearn.preprocessing import LabelEncoder\n",
    "import scipy.stats\n",
    "from math import sqrt\n",
    "import os\n",
    "\n",
    "from Errors import Error_Metrics\n",
    "\n",
    "import matplotlib as mpl\n",
    "import pylab\n",
    "import matplotlib.pyplot as plt\n",
    "mpl.rcParams['lines.linewidth'] = 6\n",
    "mpl.rcParams['lines.color'] = 'r'\n",
    "mpl.rcParams['font.weight'] = 200\n",
    "plt.style.use('seaborn-whitegrid')\n",
    "plt.rc('figure',figsize=(11,6))\n",
    "pylab.rcParams['ytick.major.pad']='12'\n",
    "pylab.rcParams['xtick.major.pad']='12'\n",
    "mpl.axes.Axes.annotate\n",
    "\n",
    "mpl.rcParams['axes.labelsize'] = 22\n",
    "mpl.rcParams['axes.linewidth'] = 4\n",
    "mpl.rcParams['xtick.labelsize'] = 28\n",
    "mpl.rcParams['ytick.labelsize'] = 28\n",
    "mpl.rcParams['axes.edgecolor'] = 'black'\n",
    "mpl.rcParams['axes.titlesize'] = 25\n",
    "mpl.rcParams['legend.fontsize'] = 25"
   ]
  },
  {
   "cell_type": "markdown",
   "metadata": {},
   "source": [
    "# Reading Data "
   ]
  },
  {
   "cell_type": "code",
   "execution_count": null,
   "metadata": {
    "ExecuteTime": {
     "end_time": "2021-05-25T20:17:39.937581Z",
     "start_time": "2021-05-25T20:17:39.932407Z"
    }
   },
   "outputs": [],
   "source": [
    "training_person = ['Player']\n",
    "training_sensor = ['Right_Leg','Left_Leg']  "
   ]
  },
  {
   "cell_type": "code",
   "execution_count": null,
   "metadata": {
    "ExecuteTime": {
     "end_time": "2021-05-25T20:17:40.636881Z",
     "start_time": "2021-05-25T20:17:40.522255Z"
    }
   },
   "outputs": [],
   "source": [
    "training_data,training_label = extract_data(training_person,training_sensor)"
   ]
  },
  {
   "cell_type": "markdown",
   "metadata": {},
   "source": [
    "# Activity Label"
   ]
  },
  {
   "cell_type": "code",
   "execution_count": null,
   "metadata": {
    "ExecuteTime": {
     "end_time": "2020-03-31T21:48:43.213192Z",
     "start_time": "2020-03-31T21:48:43.169837Z"
    }
   },
   "outputs": [],
   "source": [
    "label_encoder = LabelEncoder()\n",
    "integer_encoded = label_encoder.fit_transform(training_label)\n",
    "training_y = label_encoder.transform(training_label)"
   ]
  },
  {
   "cell_type": "code",
   "execution_count": null,
   "metadata": {
    "ExecuteTime": {
     "end_time": "2020-03-15T15:49:25.042535Z",
     "start_time": "2020-03-15T15:49:25.036465Z"
    }
   },
   "outputs": [],
   "source": [
    "individual_label.shape"
   ]
  },
  {
   "cell_type": "code",
   "execution_count": null,
   "metadata": {
    "ExecuteTime": {
     "end_time": "2020-03-15T15:49:26.453851Z",
     "start_time": "2020-03-15T15:49:26.447226Z"
    }
   },
   "outputs": [],
   "source": [
    "training_y.shape"
   ]
  },
  {
   "cell_type": "code",
   "execution_count": null,
   "metadata": {
    "ExecuteTime": {
     "end_time": "2020-03-31T21:48:45.973773Z",
     "start_time": "2020-03-31T21:48:44.968386Z"
    }
   },
   "outputs": [],
   "source": [
    "training_data = pd.DataFrame(StandardScaler().fit_transform(training_data.reshape(training_data.shape[0],-1)))"
   ]
  },
  {
   "cell_type": "code",
   "execution_count": null,
   "metadata": {
    "ExecuteTime": {
     "end_time": "2020-03-31T21:48:47.304605Z",
     "start_time": "2020-03-31T21:48:45.975742Z"
    }
   },
   "outputs": [],
   "source": [
    "testing_data  = pd.DataFrame(StandardScaler().fit_transform(testing_data.reshape(testing_data.shape[0],-1)))"
   ]
  },
  {
   "cell_type": "code",
   "execution_count": null,
   "metadata": {
    "ExecuteTime": {
     "end_time": "2020-03-15T15:49:38.713474Z",
     "start_time": "2020-03-15T15:49:38.706127Z"
    }
   },
   "outputs": [],
   "source": [
    "training_data.shape"
   ]
  },
  {
   "cell_type": "code",
   "execution_count": null,
   "metadata": {
    "ExecuteTime": {
     "end_time": "2020-03-31T21:48:47.754747Z",
     "start_time": "2020-03-31T21:48:47.745235Z"
    }
   },
   "outputs": [],
   "source": [
    "training_data['label']=pd.DataFrame(training_y)\n",
    "testing_data['label']=pd.DataFrame(testing_y)"
   ]
  },
  {
   "cell_type": "code",
   "execution_count": 5,
   "metadata": {},
   "outputs": [],
   "source": [
    "if not os.path.exists('Error Learning Results'):\n",
    "    os.makedirs('Error Learning Results')"
   ]
  },
  {
   "cell_type": "markdown",
   "metadata": {},
   "source": [
    "# Distance-based Error Learning Framework"
   ]
  },
  {
   "cell_type": "code",
   "execution_count": null,
   "metadata": {
    "ExecuteTime": {
     "end_time": "2021-05-05T14:47:44.527545Z",
     "start_time": "2021-05-05T14:47:44.510035Z"
    }
   },
   "outputs": [],
   "source": [
    "batch_size = 30\n",
    "flag = 0\n",
    "K = 25\n",
    "for label in np.unique(training_y):\n",
    "    temp10 = testing_data[testing_data['label']==label].values\n",
    "    temp12 = training_data[training_data['label']==label].values\n",
    "    temp10 = temp10[:,0:-1]\n",
    "    temp12 = temp12[:,0:-1]        \n",
    "    temp13 = np.tile(temp12,(batch_size,1,1))\n",
    "    print(label)\n",
    "    for i in range(0, temp10.shape[0], batch_size):\n",
    "        temp11 = temp10[i:i+batch_size,:]\n",
    "        if temp11.shape[0]<batch_size:\n",
    "            #temp13 = np.tile(temp12,(temp11.shape[0],1,1))\n",
    "            temp13 = temp13[0:temp11.shape[0],:,:]\n",
    "        distance = (np.square(temp11[:,np.newaxis,:])+np.square(temp13)- 2*np.multiply(temp11[:,np.newaxis,:],temp13))\n",
    "        distance = np.sum(distance,axis=2)\n",
    "        idx = np.argpartition(distance,-K,axis=1)[:,-K:]\n",
    "        averaged_chunk = np.average(temp12[idx,:],axis=1)\n",
    "        if flag==0:\n",
    "            averaged_data=averaged_chunk\n",
    "            preserved_label = np.full((averaged_chunk.shape[0],1),label)\n",
    "            flag+=1\n",
    "        else: \n",
    "            averaged_data=np.append(averaged_data,averaged_chunk,axis=0)\n",
    "            preserved_label = np.append(preserved_label,np.full((averaged_chunk.shape[0],1),label))\n",
    "    preserved_label = np.reshape(preserved_label,(len(preserved_label),1))    "
   ]
  },
  {
   "cell_type": "code",
   "execution_count": null,
   "metadata": {
    "ExecuteTime": {
     "end_time": "2021-05-05T14:47:46.491530Z",
     "start_time": "2021-05-05T14:47:46.470240Z"
    }
   },
   "outputs": [],
   "source": [
    "temp_averaged_data = averaged_data\n",
    "averaged_data = pd.DataFrame(averaged_data)\n",
    "averaged_data['label'] = pd.DataFrame(preserved_label)"
   ]
  },
  {
   "cell_type": "code",
   "execution_count": null,
   "metadata": {
    "ExecuteTime": {
     "end_time": "2020-03-31T22:13:57.598902Z",
     "start_time": "2020-03-31T22:13:57.585292Z"
    },
    "scrolled": true
   },
   "outputs": [],
   "source": [
    "averaged_data.shape"
   ]
  },
  {
   "cell_type": "code",
   "execution_count": null,
   "metadata": {
    "ExecuteTime": {
     "end_time": "2020-03-31T22:13:57.614973Z",
     "start_time": "2020-03-31T22:13:57.601150Z"
    }
   },
   "outputs": [],
   "source": [
    "testing_data.shape"
   ]
  },
  {
   "cell_type": "markdown",
   "metadata": {},
   "source": [
    "# Saving as .csv file"
   ]
  },
  {
   "cell_type": "code",
   "execution_count": null,
   "metadata": {},
   "outputs": [],
   "source": [
    "training_person= ['Player']\n",
    "testing_person= ['Player']"
   ]
  },
  {
   "cell_type": "code",
   "execution_count": null,
   "metadata": {
    "ExecuteTime": {
     "end_time": "2020-03-31T22:15:18.453264Z",
     "start_time": "2020-03-31T22:13:57.618196Z"
    }
   },
   "outputs": [],
   "source": [
    "averaged_data.to_csv(\"Error Learning Results/averaged_data_k_25_\"+training_person+\"_\"+testing_person\".csv\",index=False,header=None)"
   ]
  },
  {
   "cell_type": "code",
   "execution_count": null,
   "metadata": {
    "ExecuteTime": {
     "end_time": "2020-03-31T22:16:43.517630Z",
     "start_time": "2020-03-31T22:15:18.454787Z"
    }
   },
   "outputs": [],
   "source": [
    "testing_data.to_csv(\"Error Learning Results/testing_data_\"+training_person+\"_\"+testing_person\".csv\",index=False,header=None)"
   ]
  },
  {
   "cell_type": "markdown",
   "metadata": {},
   "source": [
    "# Handcrafted Errors"
   ]
  },
  {
   "cell_type": "code",
   "execution_count": null,
   "metadata": {
    "ExecuteTime": {
     "end_time": "2020-03-31T22:44:39.364293Z",
     "start_time": "2020-03-31T22:44:39.359448Z"
    }
   },
   "outputs": [],
   "source": [
    "K=25"
   ]
  },
  {
   "cell_type": "code",
   "execution_count": null,
   "metadata": {
    "ExecuteTime": {
     "end_time": "2020-03-31T22:44:58.172259Z",
     "start_time": "2020-03-31T22:44:40.309758Z"
    },
    "scrolled": true
   },
   "outputs": [],
   "source": [
    "avg_data = pd.read_csv(\"Error Learning Results/averaged_data_k_25_\"+training_person+\"_\"+testing_person\".csv\",header=None)\n",
    "avg_data=np.array(avg_data)\n",
    "testing_data = pd.read_csv(\"Error Learning Results/testing_data_\"+training_person+\"_\"+testing_person\".csv\",header=None)\n",
    "testing_data=np.array(testing_data)"
   ]
  },
  {
   "cell_type": "code",
   "execution_count": null,
   "metadata": {
    "ExecuteTime": {
     "end_time": "2020-03-31T22:44:58.177913Z",
     "start_time": "2020-03-31T22:44:58.174050Z"
    }
   },
   "outputs": [],
   "source": [
    "testing_data.shape"
   ]
  },
  {
   "cell_type": "code",
   "execution_count": null,
   "metadata": {
    "ExecuteTime": {
     "end_time": "2020-03-31T22:44:58.191862Z",
     "start_time": "2020-03-31T22:44:58.180868Z"
    }
   },
   "outputs": [],
   "source": [
    "avg_data.shape"
   ]
  },
  {
   "cell_type": "code",
   "execution_count": null,
   "metadata": {},
   "outputs": [],
   "source": [
    "error_metrics = Error_Metrics(avg_data,testing_data)"
   ]
  },
  {
   "cell_type": "code",
   "execution_count": null,
   "metadata": {
    "ExecuteTime": {
     "end_time": "2021-05-07T03:50:26.797164Z",
     "start_time": "2021-05-07T03:50:26.740078Z"
    }
   },
   "outputs": [],
   "source": [
    "error_metrics = pd.DataFrame(error_metrics)\n",
    "eror_metrics.to_csv(\"Error Learning Results/error_metrics_k_\"+str(K)+\"_\"+training_person+\"_\"+testing_person\".csv\",index=False,header=None)"
   ]
  },
  {
   "cell_type": "markdown",
   "metadata": {},
   "source": [
    "# Completed the handcrafted Errors Computing\n",
    "\n",
    "# Plotting the error as Probability Density Function"
   ]
  },
  {
   "cell_type": "code",
   "execution_count": null,
   "metadata": {
    "ExecuteTime": {
     "end_time": "2020-03-31T22:45:01.017945Z",
     "start_time": "2020-03-31T22:45:01.002939Z"
    },
    "run_control": {
     "marked": false
    }
   },
   "outputs": [],
   "source": [
    "list(label_encoder.inverse_transform([0]))"
   ]
  },
  {
   "cell_type": "code",
   "execution_count": null,
   "metadata": {
    "ExecuteTime": {
     "end_time": "2020-03-31T22:45:32.852789Z",
     "start_time": "2020-03-31T22:45:32.846368Z"
    }
   },
   "outputs": [],
   "source": [
    "xlabels = ['RMSE','MSE','NMSE','MAE','MdAE','RMDSPE','NRMSE_Sd','SSE','ED_L2_Norm','NRMSE_m','MPE','MNB','MdSPE']"
   ]
  },
  {
   "cell_type": "markdown",
   "metadata": {},
   "source": [
    "# Reading the error csv files and plotting them"
   ]
  },
  {
   "cell_type": "code",
   "execution_count": 6,
   "metadata": {},
   "outputs": [],
   "source": [
    "if not os.path.exists('Error Learning Results/Error Figures'):\n",
    "    os.makedirs('Error Learning Results/Error Figures')"
   ]
  },
  {
   "cell_type": "code",
   "execution_count": null,
   "metadata": {},
   "outputs": [],
   "source": [
    "training_person= ['Player']\n",
    "testing_person= ['Player']"
   ]
  },
  {
   "cell_type": "code",
   "execution_count": null,
   "metadata": {
    "ExecuteTime": {
     "end_time": "2020-04-01T01:42:51.744593Z",
     "start_time": "2020-04-01T01:42:51.497600Z"
    },
    "scrolled": true
   },
   "outputs": [],
   "source": [
    "error_player = pd.read_csv(\"Error Learning Results/error_metrics_k_25__\"+training_person+\"_\"+testing_person\".csv\",header=None)\n",
    "error_player= np.array(error_player)\n",
    "error_player1 = pd.read_csv(\"Error Learning Results/error_metrics_k_25__\"+training_person+\"_\"+testing_person\".csv\",header=None)\n",
    "error_player1 = np.array(error_player1)\n",
    "error_player2 = pd.read_csv(\"Error Learning Results/error_metrics_k_25__\"+training_person+\"_\"+testing_person\".csv\",header=None)\n",
    "error_player2 = np.array(error_player2)\n",
    "\n",
    "\n",
    "for i in np.arange(0,13):\n",
    "    for j in np.arange(0,12):\n",
    "        error_player_label= error_player[error_player[:,13]==j,i]\n",
    "        hist_val_error_player=np.histogram(error_player_label,100)\n",
    "        plt.plot(hist_val_error_player[1][:-1],hist_val_error_player[0]/sum(hist_val_error_player[0]),'r')\n",
    "        \n",
    "        error_player1_label= error_player1[error_player1[:,13]==j,i]\n",
    "        hist_val_error_player1=np.histogram(error_player1_label,100)\n",
    "        plt.plot(hist_val_error_player1[1][:-1],hist_val_error_player1[0]/sum(hist_val_error_player1[0]),'g')\n",
    "        \n",
    "        error_player2_label= error_player2[error_player2[:,13]==j,i]\n",
    "        hist_val_error_player2=np.histogram(error_player2_label,100)\n",
    "        plt.plot(hist_val_error_player2[1][:-1],hist_val_error_player2[0]/sum(hist_val_error_player2[0]),'k')\n",
    "        \n",
    "        \n",
    "        #plt.title(list(label_encoder.inverse_transform([j]))[0],fontweight='semibold', fontsize = '25')\n",
    "        plt.xlabel(xlabels[i],fontweight='semibold', fontsize = '30')\n",
    "        plt.ylabel('Normalized Frequency', fontweight='semibold', fontsize = '30')\n",
    "        plt.legend(['Professional Player 1', 'Novice Player', 'Intermediate Player'],prop=dict(weight='semibold'))\n",
    "        plt.tight_layout()\n",
    "        \n",
    "        \n",
    "        plt.savefig(\"Error Learning Results//Error Figures/K_\"+str(K)+\"/\"+list(label_encoder.inverse_transform([j]))[0]+\"_\"+xlabels[i]+\".eps\", format='eps')\n",
    "        plt.show()  \n",
    "    "
   ]
  },
  {
   "cell_type": "code",
   "execution_count": null,
   "metadata": {},
   "outputs": [],
   "source": []
  }
 ],
 "metadata": {
  "kernelspec": {
   "display_name": "Python 3",
   "language": "python",
   "name": "python3"
  },
  "language_info": {
   "codemirror_mode": {
    "name": "ipython",
    "version": 3
   },
   "file_extension": ".py",
   "mimetype": "text/x-python",
   "name": "python",
   "nbconvert_exporter": "python",
   "pygments_lexer": "ipython3",
   "version": "3.6.9"
  },
  "toc": {
   "base_numbering": 1,
   "nav_menu": {},
   "number_sections": true,
   "sideBar": true,
   "skip_h1_title": false,
   "title_cell": "Table of Contents",
   "title_sidebar": "Contents",
   "toc_cell": false,
   "toc_position": {},
   "toc_section_display": true,
   "toc_window_display": false
  }
 },
 "nbformat": 4,
 "nbformat_minor": 4
}
