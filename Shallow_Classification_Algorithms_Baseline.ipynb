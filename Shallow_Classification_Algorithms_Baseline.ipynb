{
 "cells": [
  {
   "cell_type": "code",
   "execution_count": null,
   "metadata": {
    "ExecuteTime": {
     "end_time": "2021-05-05T15:38:36.297126Z",
     "start_time": "2021-05-05T15:38:35.458195Z"
    }
   },
   "outputs": [],
   "source": [
    "import os\n",
    "import pandas as pd\n",
    "import numpy as np\n",
    "import time\n",
    "from scipy import stats\n",
    "from Raw_Data_Read import extract_data\n",
    "from sklearn import preprocessing\n",
    "from sklearn.model_selection import train_test_split\n",
    "from sklearn import svm\n",
    "from sklearn.metrics import accuracy_score\n",
    "from sklearn.metrics import classification_report\n",
    "from sklearn.metrics import confusion_matrix\n",
    "from sklearn import svm\n",
    "from sklearn.neural_network import MLPClassifier\n",
    "from sklearn.model_selection import KFold\n",
    "from sklearn import tree\n",
    "from sklearn.ensemble import RandomForestClassifier\n",
    "from sklearn.naive_bayes import GaussianNB \n",
    "import itertools\n",
    "from matplotlib import pyplot as plt\n",
    "from sklearn.decomposition import PCA\n",
    "from sklearn.neighbors import KNeighborsClassifier\n",
    "from sklearn.manifold import TSNE\n",
    "import signal\n",
    "import scipy \n",
    "from sklearn.svm import SVC \n",
    "from sklearn.model_selection import ShuffleSplit\n",
    "import matplotlib as mpl\n",
    "from matplotlib.colors import ListedColormap\n",
    "from sklearn.discriminant_analysis import LinearDiscriminantAnalysis\n",
    "from sklearn.preprocessing import LabelEncoder\n",
    "import seaborn as sns"
   ]
  },
  {
   "cell_type": "code",
   "execution_count": null,
   "metadata": {
    "ExecuteTime": {
     "end_time": "2021-04-12T16:27:08.789880Z",
     "start_time": "2021-04-12T16:27:08.777846Z"
    }
   },
   "outputs": [],
   "source": [
    "mpl.rcParams['lines.linewidth'] = 4\n",
    "mpl.rcParams['lines.color'] = 'r'\n",
    "mpl.rcParams['font.weight'] = 200\n",
    "plt.style.use('seaborn-whitegrid')\n",
    "plt.rc('figure',figsize=(11,6))\n",
    "mpl.axes.Axes.annotate\n",
    "mpl.rcParams['axes.labelsize'] = 20\n",
    "mpl.rcParams['axes.linewidth'] = 4\n",
    "mpl.rcParams['xtick.labelsize'] = 20\n",
    "mpl.rcParams['ytick.labelsize'] = 20\n",
    "mpl.rcParams['axes.edgecolor'] = 'black'\n",
    "mpl.rcParams['axes.titlesize'] = 20\n",
    "mpl.rcParams['legend.fontsize'] = 14"
   ]
  },
  {
   "cell_type": "code",
   "execution_count": null,
   "metadata": {
    "ExecuteTime": {
     "end_time": "2020-05-13T20:27:02.297807Z",
     "start_time": "2020-05-13T20:27:02.281770Z"
    }
   },
   "outputs": [],
   "source": [
    "def plot_confusion_matrix (cm, classes, normalize=False,title='Confusion matrix',cmap=plt.cm.Greens):\n",
    "    if normalize:\n",
    "        cm = cm.astype('float') / cm.sum(axis=1)[:, np.newaxis]\n",
    "\n",
    "    plt.figure(figsize=(10,10))\n",
    "    plt.grid(b=False)    \n",
    "    plt.imshow(cm, interpolation='nearest', cmap=cmap)\n",
    "    plt.title(title)\n",
    "    plt.colorbar()\n",
    "    tick_marks = np.arange(len(classes))\n",
    "    plt.xticks(tick_marks, classes, rotation=90)\n",
    "    plt.yticks(tick_marks, classes)\n",
    "\n",
    "    fmt = '.1f' if normalize else 'd'\n",
    "    thresh = cm.max() / 2.\n",
    "    for i, j in itertools.product(range(cm.shape[0]), range(cm.shape[1])):\n",
    "        plt.text(j, i, format(cm[i, j], fmt),\n",
    "                 horizontalalignment=\"center\",\n",
    "                 color=\"white\" if cm[i, j] > thresh else \"black\")\n",
    "\n",
    "    plt.tight_layout()\n",
    "    plt.ylabel('True label')\n",
    "    plt.xlabel('Predicted label')"
   ]
  },
  {
   "cell_type": "markdown",
   "metadata": {},
   "source": [
    "# Upload your Dataset"
   ]
  },
  {
   "cell_type": "code",
   "execution_count": null,
   "metadata": {},
   "outputs": [],
   "source": [
    "training_person = ['Player']\n",
    "training_sensor = ['Hand','Palm','Right_Leg','Left_Leg']  "
   ]
  },
  {
   "cell_type": "code",
   "execution_count": null,
   "metadata": {},
   "outputs": [],
   "source": [
    "training_data,training_label = extract_data(training_person,training_sensor)"
   ]
  },
  {
   "cell_type": "markdown",
   "metadata": {},
   "source": [
    "# Median Filter"
   ]
  },
  {
   "cell_type": "code",
   "execution_count": null,
   "metadata": {
    "ExecuteTime": {
     "end_time": "2020-05-01T01:38:07.156494Z",
     "start_time": "2020-05-01T01:36:47.837756Z"
    }
   },
   "outputs": [],
   "source": [
    "training_data = scipy.signal.medfilt(training_data, kernel_size=3)"
   ]
  },
  {
   "cell_type": "code",
   "execution_count": null,
   "metadata": {
    "ExecuteTime": {
     "end_time": "2019-11-18T14:18:58.153370Z",
     "start_time": "2019-11-18T14:18:57.561287Z"
    }
   },
   "outputs": [],
   "source": [
    "fig = plt.figure(figsize=(12,9))\n",
    "ax = training_Label.value_counts().plot(kind='bar',fontsize=14,width=0.7);\n",
    "plt.plot(linewidth=30)\n",
    "plt.title('Activity',fontsize=18,fontweight='bold')\n",
    "plt.ylim(0,12000)\n",
    "plt.xticks(rotation=90)\n",
    "plt.ylabel('Data Instances',fontsize=14,fontweight='bold')\n",
    "plt.xlabel('Classes',fontsize=14,fontweight='bold')\n",
    "totals = []\n",
    "for i in ax.patches:\n",
    "    totals.append(i.get_height())\n",
    "\n",
    "total = sum(totals)\n",
    "\n",
    "for i in ax.patches:\n",
    "    ax.text(i.get_x()-.04, i.get_height()+80, \n",
    "            str(round((i.get_height()/total)*100, 1))+'%', fontsize=15,fontweight='bold',\n",
    "                color='dimgrey') \n",
    "fig.savefig('datapoint.jpg', bbox_inches='tight', pad_inches=0)    "
   ]
  },
  {
   "cell_type": "markdown",
   "metadata": {},
   "source": [
    "# Preprocessing"
   ]
  },
  {
   "cell_type": "code",
   "execution_count": null,
   "metadata": {
    "ExecuteTime": {
     "end_time": "2020-05-14T02:56:36.498725Z",
     "start_time": "2020-05-14T02:56:36.466251Z"
    }
   },
   "outputs": [],
   "source": [
    "label_encoder = LabelEncoder()\n",
    "integer_encoded = label_encoder.fit_transform(training_label)"
   ]
  },
  {
   "cell_type": "code",
   "execution_count": null,
   "metadata": {
    "ExecuteTime": {
     "end_time": "2020-05-14T02:56:37.502044Z",
     "start_time": "2020-05-14T02:56:37.474149Z"
    }
   },
   "outputs": [],
   "source": [
    "y = label_encoder.transform(training_label)"
   ]
  },
  {
   "cell_type": "code",
   "execution_count": null,
   "metadata": {
    "ExecuteTime": {
     "end_time": "2020-05-14T02:56:38.679145Z",
     "start_time": "2020-05-14T02:56:38.673587Z"
    }
   },
   "outputs": [],
   "source": [
    "X = training_data.reshape(training_data.shape[0],-1)"
   ]
  },
  {
   "cell_type": "code",
   "execution_count": null,
   "metadata": {
    "ExecuteTime": {
     "end_time": "2020-05-14T02:56:39.649949Z",
     "start_time": "2020-05-14T02:56:39.644259Z"
    }
   },
   "outputs": [],
   "source": [
    "x = testing_data.reshape(testing_data.shape[0],-1)"
   ]
  },
  {
   "cell_type": "code",
   "execution_count": null,
   "metadata": {
    "ExecuteTime": {
     "end_time": "2020-04-30T17:41:00.954110Z",
     "start_time": "2020-04-30T17:41:00.951319Z"
    }
   },
   "outputs": [],
   "source": [
    "accuracy_scores = np.zeros(4)"
   ]
  },
  {
   "cell_type": "code",
   "execution_count": null,
   "metadata": {
    "ExecuteTime": {
     "end_time": "2020-05-01T01:38:07.300708Z",
     "start_time": "2020-05-01T01:38:07.290533Z"
    }
   },
   "outputs": [],
   "source": [
    "target_names = ['Forehand Service','Backhand Service','Clear Lob Overhead Forehand','Clear Lob Overhead Backhand','Clear Lob Underarm Forehand',\n",
    "         'Clear Lob Underarm Backhand','Net Shot Underarm Forehand','Net Shot Underarm Backhand','Drop Shot Overhead Forehand','Drop Shot Overhead Backhand',\n",
    "         'Smash Overhead Forehand','Smash Overhead Backhand']     "
   ]
  },
  {
   "cell_type": "markdown",
   "metadata": {},
   "source": [
    "# Classifiers on the Raw Data"
   ]
  },
  {
   "cell_type": "code",
   "execution_count": null,
   "metadata": {},
   "outputs": [],
   "source": [
    "X_train, X_test, y_train, y_test = train_test_split(X,y ,test_size=0.2, random_state=3)"
   ]
  },
  {
   "cell_type": "code",
   "execution_count": null,
   "metadata": {
    "ExecuteTime": {
     "end_time": "2020-04-30T00:20:37.687910Z",
     "start_time": "2020-04-30T00:16:37.333496Z"
    },
    "scrolled": true
   },
   "outputs": [],
   "source": [
    "cm_cmap=plt.cm.Greens\n",
    "\n",
    "clf =  MLPClassifier().fit(X_train, y_train)\n",
    "prediction = clf.predict(X_test)\n",
    "accuracy_scores[0] = accuracy_score(y_test, prediction)*100\n",
    "cm = metrics.confusion_matrix(y_test, prediction)\n",
    "plt.figure(figsize=(8,8))\n",
    "plt.grid(b=False)\n",
    "plot_confusion_matrix(cm, classes=target_names, normalize=True, title='Normalized confusion matrix', cmap = cm_cmap)\n",
    "report = metrics.classification_report(y_test, prediction, target_names=target_names)\n",
    "#df = pd.DataFrame(report).transpose()\n",
    "#df.to_csv('Classification_Report_MLP_Sreeni_Dataset.csv')\n",
    "print(' MLPClassifier Accuracy: {}%'.format(accuracy_scores[0]))\n",
    "#cm.numpy.genfromtxt('C:/localpath/test.csv', delimiter=',')\n",
    "#plt.savefig('Confusion_Matrix_MLP_Participant_Hand_and_Palm_Dataset',transparent=True, bbox_inches='tight', pad_inches=0)\n",
    "print(report)\n",
    "\n",
    "gnb = GaussianNB()\n",
    "clf =  gnb.fit(X_train, y_train)\n",
    "prediction = clf.predict(X_test)\n",
    "accuracy_scores[0] = accuracy_score(y_test, prediction)*100\n",
    "cm = metrics.confusion_matrix(y_test,prediction)\n",
    "plt.figure(figsize=(8,8))\n",
    "plt.grid(b=False)\n",
    "plot_confusion_matrix(cm, classes=target_names, normalize=True, title='Normalized confusion matrix', cmap = cm_cmap)\n",
    "report = metrics.classification_report(y_test, prediction, target_names=target_names)\n",
    "#df = pd.DataFrame(report).transpose()\n",
    "#df.to_csv('Classification_Report_NB_Sreeni_Dataset.csv')\n",
    "print(' Naive Bayes Classifier Accuracy : {}%'.format(accuracy_scores[0]))\n",
    "#plt.savefig('Confusion_Matrix_Naive_Bayes_Participant_Hand_and_Palm_Dataset',transparent=True, bbox_inches='tight', pad_inches=0)\n",
    "print(report)\n",
    "\n",
    "\n",
    "clf = RandomForestClassifier().fit(X_train, y_train)\n",
    "prediction = clf.predict(X_test)\n",
    "accuracy_scores[0] = accuracy_score(y_test, prediction)*100\n",
    "cm = metrics.confusion_matrix(y_test, prediction)\n",
    "plt.figure(figsize=(8,8))\n",
    "plt.grid(b=False)\n",
    "plot_confusion_matrix(cm, classes=target_names, normalize=True, title='Normalized confusion matrix', cmap = cm_cmap)\n",
    "report = metrics.classification_report(y_test, prediction, target_names=target_names)\n",
    "#df = pd.DataFrame(report).transpose()\n",
    "#df.to_csv('Classification_Report_RF_Sreeni_Dataset.csv')\n",
    "print('Random Forest Classifier Accuracy: {}%'.format(accuracy_scores[0]))\n",
    "#plt.savefig('Confusion_Matrix_RF_Participant_Hand_and_Palm_Dataset',transparent=True, bbox_inches='tight', pad_inches=0)\n",
    "print(report)\n",
    "\n",
    "\n",
    "clf =  tree.DecisionTreeClassifier().fit(X_train, y_train)\n",
    "prediction = clf.predict(X_test)\n",
    "accuracy_scores[0] = accuracy_score(y_test, prediction)*100\n",
    "cm = metrics.confusion_matrix(y_test, prediction)\n",
    "plt.figure(figsize=(8,8))\n",
    "plt.grid(b=False)\n",
    "plot_confusion_matrix(cm, classes=target_names, normalize=True, title='Normalized confusion matrix', cmap = cm_cmap)\n",
    "report = metrics.classification_report(y_test, prediction, target_names=target_names)\n",
    "#df = pd.DataFrame(report).transpose()\n",
    "#df.to_csv('Classification_Report_DT_Sreeni_Dataset.csv')\n",
    "print(' Decision Tree Classifier Accuracy: {}%'.format(accuracy_scores[0]))\n",
    "#plt.savefig('Confusion_Matrix_DT_Participant_Hand_and_Palm_Dataset',transparent=True, bbox_inches='tight', pad_inches=0)\n",
    "print(report)\n",
    "\n",
    "clf = SVC(kernel = 'linear').fit(X_train, y_train)\n",
    "#clf = SVC(kernel='rbf', random_state=0, gamma=1, C=1).fit(X_train, y_train) \n",
    "prediction = clf.predict(X_test) \n",
    "accuracy_scores[0] = accuracy_score(y_test, prediction)*100\n",
    "cm = metrics.confusion_matrix(y_test, prediction)\n",
    "plt.figure(figsize=(8,8))\n",
    "plt.grid(b=False)\n",
    "plot_confusion_matrix(cm, classes=target_names, normalize=True, title='Normalized confusion matrix', cmap = cm_cmap)\n",
    "report = metrics.classification_report(y_test, prediction, target_names=target_names)\n",
    "#df = pd.DataFrame(report).transpose()\n",
    "#df.to_csv('Classification_Report_MLP_Sreeni_Dataset.csv')\n",
    "print('  SVM MulitclassClassifier Accuracy: {}%'.format(accuracy_scores[0]))\n",
    "#cm.numpy.genfromtxt('C:/localpath/test.csv', delimiter=',')\n",
    "#plt.savefig('Confusion_Matrix_SVM_Linear_Participant_Hand_and_Palm_Dataset',transparent=True, bbox_inches='tight', pad_inches=0)\n",
    "print(report)\n",
    "\n",
    "clf = SVC(kernel = 'rbf').fit(X_train, y_train)\n",
    "#clf = SVC(kernel='rbf', random_state=0, gamma=1, C=1).fit(X_train, y_train) \n",
    "prediction = clf.predict(X_test) \n",
    "accuracy_scores[0] = accuracy_score(y_test, prediction)*100\n",
    "cm = metrics.confusion_matrix(y_test, prediction)\n",
    "plt.figure(figsize=(8,8))\n",
    "plt.grid(b=False)\n",
    "plot_confusion_matrix(cm, classes=target_names, normalize=True, title='Normalized confusion matrix', cmap = cm_cmap)\n",
    "report = metrics.classification_report(y_test, prediction, target_names=target_names)\n",
    "#df = pd.DataFrame(report).transpose()\n",
    "#df.to_csv('Classification_Report_MLP_Sreeni_Dataset.csv')\n",
    "print('  SVM RBF MulitclassClassifier Accuracy: {}%'.format(accuracy_scores[0]))\n",
    "#cm.numpy.genfromtxt('C:/localpath/test.csv', delimiter=',')\n",
    "#plt.savefig('Confusion_Matrix_SVM_RBF_Participant_Hand_and_Palm_Dataset',transparent=True, bbox_inches='tight', pad_inches=0)\n",
    "print(report)"
   ]
  }
 ],
 "metadata": {
  "kernelspec": {
   "display_name": "Python 3",
   "language": "python",
   "name": "python3"
  },
  "language_info": {
   "codemirror_mode": {
    "name": "ipython",
    "version": 3
   },
   "file_extension": ".py",
   "mimetype": "text/x-python",
   "name": "python",
   "nbconvert_exporter": "python",
   "pygments_lexer": "ipython3",
   "version": "3.6.9"
  },
  "toc": {
   "base_numbering": 1,
   "nav_menu": {},
   "number_sections": true,
   "sideBar": true,
   "skip_h1_title": false,
   "title_cell": "Table of Contents",
   "title_sidebar": "Contents",
   "toc_cell": false,
   "toc_position": {},
   "toc_section_display": true,
   "toc_window_display": false
  }
 },
 "nbformat": 4,
 "nbformat_minor": 4
}
