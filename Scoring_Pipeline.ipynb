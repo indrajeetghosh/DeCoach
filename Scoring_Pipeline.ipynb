{
 "cells": [
  {
   "cell_type": "code",
   "execution_count": null,
   "metadata": {
    "ExecuteTime": {
     "end_time": "2021-05-07T03:32:33.296950Z",
     "start_time": "2021-05-07T03:32:33.275345Z"
    },
    "run_control": {
     "marked": false
    }
   },
   "outputs": [],
   "source": [
    "import pandas as pd \n",
    "import numpy as np\n",
    "np.seterr(divide='ignore', invalid='ignore')\n",
    "from sklearn.model_selection import train_test_split\n",
    "import matplotlib.pyplot as plt\n",
    "from sklearn.metrics import r2_score\n",
    "from scipy import stats\n",
    "import math\n",
    "import sys\n",
    "import scipy.stats\n",
    "from numpy import array, newaxis\n",
    "from sklearn.metrics import mean_squared_error\n",
    "import keras\n",
    "\n",
    "%matplotlib inline\n",
    "import seaborn as sns\n",
    "\n",
    "from Scoring import model\n",
    "#from Raw_Data_Read import extract_data\n",
    "\n",
    "seed = 5"
   ]
  },
  {
   "cell_type": "code",
   "execution_count": null,
   "metadata": {
    "ExecuteTime": {
     "end_time": "2021-05-07T03:28:31.645102Z",
     "start_time": "2021-05-07T03:28:31.642425Z"
    }
   },
   "outputs": [],
   "source": [
    "training_person = 'Player1'\n",
    "testing_person = 'Player2'"
   ]
  },
  {
   "cell_type": "markdown",
   "metadata": {},
   "source": [
    "# To read Score for each data instances and Raw Data"
   ]
  },
  {
   "cell_type": "markdown",
   "metadata": {},
   "source": [
    "##  Data Load 13 - Error Metrics \n",
    "## Feature Selection"
   ]
  },
  {
   "cell_type": "code",
   "execution_count": null,
   "metadata": {
    "ExecuteTime": {
     "end_time": "2021-05-07T03:28:32.471127Z",
     "start_time": "2021-05-07T03:28:32.397405Z"
    },
    "scrolled": true
   },
   "outputs": [],
   "source": [
    "y = pd.read_csv(\"PATH\")\n",
    "X = y.iloc[:,0:13]\n",
    "Y = np.load(\"PATH\")\n",
    "Y=Y.astype(float)"
   ]
  },
  {
   "cell_type": "code",
   "execution_count": null,
   "metadata": {
    "ExecuteTime": {
     "end_time": "2021-05-07T03:28:33.358592Z",
     "start_time": "2021-05-07T03:28:33.326030Z"
    }
   },
   "outputs": [],
   "source": [
    "corr_matrix = X.corr().abs()\n",
    "upper = corr_matrix.where(np.triu(np.ones(corr_matrix.shape), k=1).astype(np.bool))\n",
    "to_drop= [column for column in upper.columns if any(upper[column] > 0.9)]\n",
    "training_data = np.array(X.drop(X[to_drop], axis=1))\n",
    "training_data= training_data.reshape(training_data.shape[0], training_data.shape[1], 1)\n",
    "testing_label = Y"
   ]
  },
  {
   "cell_type": "code",
   "execution_count": null,
   "metadata": {
    "ExecuteTime": {
     "end_time": "2021-05-07T03:28:36.000414Z",
     "start_time": "2021-05-07T03:28:35.990220Z"
    },
    "scrolled": true
   },
   "outputs": [],
   "source": [
    "training_data.shape"
   ]
  },
  {
   "cell_type": "code",
   "execution_count": null,
   "metadata": {
    "ExecuteTime": {
     "end_time": "2021-05-07T03:28:36.803210Z",
     "start_time": "2021-05-07T03:28:36.787246Z"
    },
    "scrolled": true
   },
   "outputs": [],
   "source": [
    "numOfRows = training_data.shape[1]\n",
    "numOfColumns = training_data.shape[2]\n",
    "reshapedSegments = training_data.reshape(training_data.shape[0], numOfRows, numOfColumns)\n",
    "\n",
    "X_train, X_test, y_train, y_test = train_test_split(training_data, y ,test_size=0.2, random_state=seed)"
   ]
  },
  {
   "cell_type": "markdown",
   "metadata": {},
   "source": [
    "# Calling the scoring Model"
   ]
  },
  {
   "cell_type": "code",
   "execution_count": null,
   "metadata": {
    "ExecuteTime": {
     "end_time": "2021-05-07T03:32:35.794358Z",
     "start_time": "2021-05-07T03:32:35.577184Z"
    }
   },
   "outputs": [],
   "source": [
    "model = model()\n",
    "print(model.summary())\n",
    "keras.utils.plot_model(model, show_shapes=True)"
   ]
  },
  {
   "cell_type": "code",
   "execution_count": null,
   "metadata": {
    "ExecuteTime": {
     "end_time": "2020-09-27T16:07:12.308319Z",
     "start_time": "2020-09-27T16:02:26.154388Z"
    },
    "scrolled": true
   },
   "outputs": [],
   "source": [
    "history = model.fit(X_train,y_train,epochs=150,batch_size=32,validation_data=(X_test, y_test))"
   ]
  },
  {
   "cell_type": "code",
   "execution_count": null,
   "metadata": {
    "ExecuteTime": {
     "start_time": "2020-04-10T04:30:40.452Z"
    }
   },
   "outputs": [],
   "source": [
    "#np.mean(history.history['mean_absolute_error'][95:100])"
   ]
  },
  {
   "cell_type": "code",
   "execution_count": null,
   "metadata": {
    "ExecuteTime": {
     "end_time": "2020-04-03T05:42:29.519036Z",
     "start_time": "2020-04-03T05:42:29.516057Z"
    }
   },
   "outputs": [],
   "source": [
    "#np.mean(history.history['val_mean_absolute_error'][95:100])"
   ]
  },
  {
   "cell_type": "code",
   "execution_count": null,
   "metadata": {
    "ExecuteTime": {
     "end_time": "2020-09-27T16:07:12.581238Z",
     "start_time": "2020-09-27T16:07:12.310372Z"
    },
    "scrolled": true
   },
   "outputs": [],
   "source": [
    "ypred = model.predict(X_test)\n",
    "#print(model.evaluate(X_train, y_train))\n",
    "print(\"MSE: %.4f\" % mean_squared_error(y_test, ypred))\n",
    "print(\"R^2 Square: %.4f\" % r2_score(y_test, ypred))"
   ]
  },
  {
   "cell_type": "markdown",
   "metadata": {},
   "source": [
    "# Saving the Predicted Score"
   ]
  },
  {
   "cell_type": "code",
   "execution_count": null,
   "metadata": {
    "ExecuteTime": {
     "end_time": "2020-09-27T16:07:12.588109Z",
     "start_time": "2020-09-27T16:07:12.584218Z"
    }
   },
   "outputs": [],
   "source": [
    "person='Player1'\n",
    "professional = 'Player2'"
   ]
  },
  {
   "cell_type": "code",
   "execution_count": null,
   "metadata": {
    "ExecuteTime": {
     "end_time": "2020-09-27T16:07:12.614261Z",
     "start_time": "2020-09-27T16:07:12.590996Z"
    },
    "scrolled": true
   },
   "outputs": [],
   "source": [
    "score_metrics = pd.DataFrame(ypred)\n",
    "score_metrics.shape"
   ]
  },
  {
   "cell_type": "code",
   "execution_count": null,
   "metadata": {
    "ExecuteTime": {
     "end_time": "2020-09-27T16:07:12.689820Z",
     "start_time": "2020-09-27T16:07:12.616913Z"
    }
   },
   "outputs": [],
   "source": [
    "score_metrics.to_csv(\"PATH\")#\"dataset/New_Work/New_Work_Error_Score_\"+person+\"_\"+professional+\"_Palm.csv\",header=None,index=False)"
   ]
  },
  {
   "cell_type": "code",
   "execution_count": null,
   "metadata": {},
   "outputs": [],
   "source": []
  }
 ],
 "metadata": {
  "kernelspec": {
   "display_name": "Python 3",
   "language": "python",
   "name": "python3"
  },
  "language_info": {
   "codemirror_mode": {
    "name": "ipython",
    "version": 3
   },
   "file_extension": ".py",
   "mimetype": "text/x-python",
   "name": "python",
   "nbconvert_exporter": "python",
   "pygments_lexer": "ipython3",
   "version": "3.6.9"
  },
  "toc": {
   "base_numbering": 1,
   "nav_menu": {},
   "number_sections": true,
   "sideBar": true,
   "skip_h1_title": false,
   "title_cell": "Table of Contents",
   "title_sidebar": "Contents",
   "toc_cell": false,
   "toc_position": {},
   "toc_section_display": true,
   "toc_window_display": false
  }
 },
 "nbformat": 4,
 "nbformat_minor": 2
}
