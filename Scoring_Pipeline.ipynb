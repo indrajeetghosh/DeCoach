{
 "cells": [
  {
   "cell_type": "code",
   "execution_count": 1,
   "metadata": {
    "ExecuteTime": {
     "end_time": "2021-05-07T03:32:33.296950Z",
     "start_time": "2021-05-07T03:32:33.275345Z"
    },
    "run_control": {
     "marked": false
    }
   },
   "outputs": [],
   "source": [
    "import pandas as pd \n",
    "import numpy as np\n",
    "import os\n",
    "np.seterr(divide='ignore', invalid='ignore')\n",
    "import matplotlib.pyplot as plt\n",
    "import math\n",
    "import sys\n",
    "import scipy.stats\n",
    "import keras\n",
    "import seaborn as sns\n",
    "import json\n",
    "import datetime\n",
    "\n",
    "from numpy import array, newaxis\n",
    "from sklearn.metrics import mean_squared_error\n",
    "from sklearn.model_selection import train_test_split\n",
    "from sklearn.metrics import r2_score\n",
    "from scipy import stats\n",
    "from PIL import Image\n",
    "\n",
    "%matplotlib inline\n",
    "\n",
    "from Scoring import model\n",
    "from Concat import get_concat_h_resize\n",
    "\n",
    "seed = 5"
   ]
  },
  {
   "cell_type": "markdown",
   "metadata": {},
   "source": [
    "# To read Score for each data instances and Raw Data"
   ]
  },
  {
   "cell_type": "code",
   "execution_count": null,
   "metadata": {},
   "outputs": [],
   "source": [
    "Error = 'BAR_Error_metrics'\n",
    "Score = 'Raw_Score_Path'"
   ]
  },
  {
   "cell_type": "markdown",
   "metadata": {},
   "source": [
    "##  Data Load 13 - Error Metrics "
   ]
  },
  {
   "cell_type": "code",
   "execution_count": null,
   "metadata": {
    "ExecuteTime": {
     "end_time": "2021-05-07T03:28:32.471127Z",
     "start_time": "2021-05-07T03:28:32.397405Z"
    },
    "scrolled": true
   },
   "outputs": [],
   "source": [
    "y = pd.read_csv(Error)\n",
    "X = y.iloc[:,0:13]\n",
    "Y = np.load(Score)\n",
    "Y=Y.astype(float)"
   ]
  },
  {
   "cell_type": "markdown",
   "metadata": {},
   "source": [
    "##  Feature Selection"
   ]
  },
  {
   "cell_type": "code",
   "execution_count": null,
   "metadata": {
    "ExecuteTime": {
     "end_time": "2021-05-07T03:28:33.358592Z",
     "start_time": "2021-05-07T03:28:33.326030Z"
    }
   },
   "outputs": [],
   "source": [
    "corr_matrix = X.corr().abs()\n",
    "upper = corr_matrix.where(np.triu(np.ones(corr_matrix.shape), k=1).astype(np.bool))\n",
    "to_drop= [column for column in upper.columns if any(upper[column] > 0.9)]\n",
    "training_data = np.array(X.drop(X[to_drop], axis=1))\n",
    "training_data= training_data.reshape(training_data.shape[0], training_data.shape[1], 1)\n",
    "testing_label = Y"
   ]
  },
  {
   "cell_type": "code",
   "execution_count": null,
   "metadata": {
    "ExecuteTime": {
     "end_time": "2021-05-07T03:28:36.000414Z",
     "start_time": "2021-05-07T03:28:35.990220Z"
    },
    "scrolled": true
   },
   "outputs": [],
   "source": [
    "training_data.shape"
   ]
  },
  {
   "cell_type": "code",
   "execution_count": null,
   "metadata": {
    "ExecuteTime": {
     "end_time": "2021-05-07T03:28:36.803210Z",
     "start_time": "2021-05-07T03:28:36.787246Z"
    },
    "scrolled": true
   },
   "outputs": [],
   "source": [
    "numOfRows = training_data.shape[1]\n",
    "numOfColumns = training_data.shape[2]\n",
    "reshapedSegments = training_data.reshape(training_data.shape[0], numOfRows, numOfColumns)\n",
    "\n",
    "X_train, X_test, y_train, y_test = train_test_split(training_data, y ,test_size=0.2, random_state=seed)"
   ]
  },
  {
   "cell_type": "markdown",
   "metadata": {},
   "source": [
    "# Calling the scoring Model"
   ]
  },
  {
   "cell_type": "code",
   "execution_count": null,
   "metadata": {
    "ExecuteTime": {
     "end_time": "2021-05-07T03:32:35.794358Z",
     "start_time": "2021-05-07T03:32:35.577184Z"
    }
   },
   "outputs": [],
   "source": [
    "model = model()\n",
    "print(model.summary())\n",
    "keras.utils.plot_model(model, show_shapes=True)"
   ]
  },
  {
   "cell_type": "code",
   "execution_count": null,
   "metadata": {
    "ExecuteTime": {
     "end_time": "2020-09-27T16:07:12.308319Z",
     "start_time": "2020-09-27T16:02:26.154388Z"
    },
    "scrolled": true
   },
   "outputs": [],
   "source": [
    "history = model.fit(X_train,y_train,epochs=150,batch_size=32,validation_data=(X_test, y_test))"
   ]
  },
  {
   "cell_type": "markdown",
   "metadata": {},
   "source": [
    "# Calculating Regression Metrics"
   ]
  },
  {
   "cell_type": "code",
   "execution_count": null,
   "metadata": {
    "ExecuteTime": {
     "end_time": "2020-09-27T16:07:12.581238Z",
     "start_time": "2020-09-27T16:07:12.310372Z"
    },
    "scrolled": true
   },
   "outputs": [],
   "source": [
    "ypred = model.predict(X_test)\n",
    "MSE = mean_squared_error(y_test, ypred)\n",
    "R2Score = r2_score(y_test, ypred)\n",
    "\n",
    "\n",
    "print(f\"Mean Squared Error : \", MSE)\n",
    "print(f\"R-Squared Score : \", R2Score)"
   ]
  },
  {
   "cell_type": "markdown",
   "metadata": {},
   "source": [
    "# Saving the predicted score and test raw score dataset and Regression Metrics"
   ]
  },
  {
   "cell_type": "code",
   "execution_count": null,
   "metadata": {},
   "outputs": [],
   "source": [
    "if not os.path.exists('Scoring Results'):\n",
    "    os.makedirs('Scoring Results')"
   ]
  },
  {
   "cell_type": "code",
   "execution_count": null,
   "metadata": {},
   "outputs": [],
   "source": [
    "current_date_and_time = datetime.datetime.now()\n",
    "current_date_and_time_string = str(current_date_and_time)"
   ]
  },
  {
   "cell_type": "code",
   "execution_count": null,
   "metadata": {},
   "outputs": [],
   "source": [
    "dict_vals = {'Mean Squared Error': MSE,\n",
    "                 'R-Squared Score': R2Score,\n",
    "                 }\n",
    "\n",
    "json_dump = json.dumps(dict_vals)\n",
    "f = open(\"Scoring Results/Metrics_deep_learning_scoring_\"+current_date_and_time_string+\".json\", \"w\")\n",
    "f.write(json_dump)\n",
    "f.close()\n",
    "\n",
    "print(f\"Successful!! Files stored\")"
   ]
  },
  {
   "cell_type": "code",
   "execution_count": null,
   "metadata": {},
   "outputs": [],
   "source": [
    "Person = ['Player1']"
   ]
  },
  {
   "cell_type": "code",
   "execution_count": null,
   "metadata": {},
   "outputs": [],
   "source": [
    "ypred.to_csv(\"Scoring Results/Predicted_Score_\"+Person\"_\"+current_date_and_time_string+\".csv\",index=False,header=None)"
   ]
  },
  {
   "cell_type": "code",
   "execution_count": null,
   "metadata": {},
   "outputs": [],
   "source": [
    "y_test.to_csv(\"Scoring Results/Raw_Score_\"+Person\"_\"+current_date_and_time_string+\".csv\",index=False,header=None)"
   ]
  },
  {
   "cell_type": "markdown",
   "metadata": {},
   "source": [
    "# Correlation Plot between Predicted and Raw Scores"
   ]
  },
  {
   "cell_type": "code",
   "execution_count": null,
   "metadata": {},
   "outputs": [],
   "source": [
    "result= np.concatenate((ypred, y_test), axis=1)\n",
    "result = pd.DataFrame(result, columns = ['PREDICT SCORE', 'RAW SCORE'])"
   ]
  },
  {
   "cell_type": "code",
   "execution_count": null,
   "metadata": {},
   "outputs": [],
   "source": [
    "sns.heatmap(result.corr(), annot = True ,vmin=0, vmax=1, cmap='ocean', center= 0, linewidths=3, linecolor='black', fmt='.3g', cbar=False)\n",
    "ax = plt.plot()\n",
    "sns.set(font_scale=2)\n",
    "plt.xticks()\n",
    "plt.yticks(rotation = 0)\n",
    "ax.yaxis.set_label_coords(-0.1,1.02)\n",
    "plt.savefig(\"Scoring Results/Correlation_Matrix.png\", format='png',dpi=300,bbox_inches='tight')\n",
    "plt.show()"
   ]
  },
  {
   "cell_type": "markdown",
   "metadata": {},
   "source": [
    "# Concatenate correlation plots"
   ]
  },
  {
   "cell_type": "code",
   "execution_count": null,
   "metadata": {},
   "outputs": [],
   "source": [
    "im2 = Image.open('Scoring Results/Correlation_Matrix1.png')\n",
    "im1 = Image.open('Scoring Results/Correlation_Matrix2.png')\n",
    "\n",
    "im3 = get_concat_h_resize(im2, im1, resample=Image.BICUBIC, resize_big_image=True).save('Scoring Results/Correlation_Uncontrolled.png')"
   ]
  },
  {
   "cell_type": "code",
   "execution_count": null,
   "metadata": {},
   "outputs": [],
   "source": []
  }
 ],
 "metadata": {
  "kernelspec": {
   "display_name": "Python 3",
   "language": "python",
   "name": "python3"
  },
  "language_info": {
   "codemirror_mode": {
    "name": "ipython",
    "version": 3
   },
   "file_extension": ".py",
   "mimetype": "text/x-python",
   "name": "python",
   "nbconvert_exporter": "python",
   "pygments_lexer": "ipython3",
   "version": "3.6.9"
  },
  "toc": {
   "base_numbering": 1,
   "nav_menu": {},
   "number_sections": true,
   "sideBar": true,
   "skip_h1_title": false,
   "title_cell": "Table of Contents",
   "title_sidebar": "Contents",
   "toc_cell": false,
   "toc_position": {},
   "toc_section_display": true,
   "toc_window_display": false
  }
 },
 "nbformat": 4,
 "nbformat_minor": 4
}
