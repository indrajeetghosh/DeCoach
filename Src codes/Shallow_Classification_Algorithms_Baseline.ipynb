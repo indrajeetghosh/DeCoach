{
 "cells": [
  {
   "cell_type": "code",
   "execution_count": null,
   "metadata": {
    "ExecuteTime": {
     "end_time": "2021-05-05T15:38:36.297126Z",
     "start_time": "2021-05-05T15:38:35.458195Z"
    }
   },
   "outputs": [],
   "source": [
    "import os\n",
    "import pandas as pd\n",
    "import numpy as np\n",
    "import itertools\n",
    "import signal\n",
    "import scipy \n",
    "import matplotlib as mpl\n",
    "\n",
    "from scipy import stats\n",
    "from Raw_Data_Read import extract_data\n",
    "from sklearn import preprocessing\n",
    "from sklearn.model_selection import train_test_split\n",
    "from sklearn import svm\n",
    "from sklearn.metrics import accuracy_score\n",
    "from sklearn.metrics import classification_report\n",
    "from sklearn import svm\n",
    "from sklearn.neural_network import MLPClassifier\n",
    "from sklearn.model_selection import KFold\n",
    "from sklearn import tree\n",
    "from sklearn.ensemble import RandomForestClassifier\n",
    "from sklearn.naive_bayes import GaussianNB \n",
    "from matplotlib import pyplot as plt\n",
    "from sklearn.neighbors import KNeighborsClassifier\n",
    "from sklearn.svm import SVC \n",
    "from sklearn.model_selection import ShuffleSplit\n",
    "from matplotlib.colors import ListedColormap\n",
    "from sklearn.discriminant_analysis import LinearDiscriminantAnalysis\n",
    "from sklearn.preprocessing import LabelEncoder\n",
    "from Confusion_Matrix import plot_confusion_matrix"
   ]
  },
  {
   "cell_type": "code",
   "execution_count": null,
   "metadata": {
    "ExecuteTime": {
     "end_time": "2021-04-12T16:27:08.789880Z",
     "start_time": "2021-04-12T16:27:08.777846Z"
    }
   },
   "outputs": [],
   "source": [
    "mpl.rcParams['lines.linewidth'] = 4\n",
    "mpl.rcParams['lines.color'] = 'r'\n",
    "mpl.rcParams['font.weight'] = 200\n",
    "plt.style.use('seaborn-whitegrid')\n",
    "plt.rc('figure',figsize=(11,6))\n",
    "mpl.axes.Axes.annotate\n",
    "mpl.rcParams['axes.labelsize'] = 20\n",
    "mpl.rcParams['axes.linewidth'] = 4\n",
    "mpl.rcParams['xtick.labelsize'] = 20\n",
    "mpl.rcParams['ytick.labelsize'] = 20\n",
    "mpl.rcParams['axes.edgecolor'] = 'black'\n",
    "mpl.rcParams['axes.titlesize'] = 20\n",
    "mpl.rcParams['legend.fontsize'] = 14"
   ]
  },
  {
   "cell_type": "markdown",
   "metadata": {},
   "source": [
    "# Read BAR Dataset"
   ]
  },
  {
   "cell_type": "code",
   "execution_count": null,
   "metadata": {},
   "outputs": [],
   "source": [
    "training_person = ['Player']\n",
    "training_sensor = ['Hand','Palm','Right_Leg','Left_Leg']  "
   ]
  },
  {
   "cell_type": "code",
   "execution_count": null,
   "metadata": {},
   "outputs": [],
   "source": [
    "training_data,training_label = extract_data(training_person,training_sensor)"
   ]
  },
  {
   "cell_type": "markdown",
   "metadata": {},
   "source": [
    "# Median Filter"
   ]
  },
  {
   "cell_type": "code",
   "execution_count": null,
   "metadata": {
    "ExecuteTime": {
     "end_time": "2020-05-01T01:38:07.156494Z",
     "start_time": "2020-05-01T01:36:47.837756Z"
    }
   },
   "outputs": [],
   "source": [
    "training_data = scipy.signal.medfilt(training_data, kernel_size=3)"
   ]
  },
  {
   "cell_type": "markdown",
   "metadata": {},
   "source": [
    "# Preprocessing"
   ]
  },
  {
   "cell_type": "code",
   "execution_count": null,
   "metadata": {
    "ExecuteTime": {
     "end_time": "2020-05-14T02:56:36.498725Z",
     "start_time": "2020-05-14T02:56:36.466251Z"
    }
   },
   "outputs": [],
   "source": [
    "label_encoder = LabelEncoder()\n",
    "integer_encoded = label_encoder.fit_transform(training_label)"
   ]
  },
  {
   "cell_type": "code",
   "execution_count": null,
   "metadata": {
    "ExecuteTime": {
     "end_time": "2020-05-14T02:56:37.502044Z",
     "start_time": "2020-05-14T02:56:37.474149Z"
    }
   },
   "outputs": [],
   "source": [
    "y = label_encoder.transform(training_label)"
   ]
  },
  {
   "cell_type": "code",
   "execution_count": null,
   "metadata": {
    "ExecuteTime": {
     "end_time": "2020-05-14T02:56:38.679145Z",
     "start_time": "2020-05-14T02:56:38.673587Z"
    }
   },
   "outputs": [],
   "source": [
    "X = training_data.reshape(training_data.shape[0],-1)"
   ]
  },
  {
   "cell_type": "code",
   "execution_count": null,
   "metadata": {
    "ExecuteTime": {
     "end_time": "2020-05-14T02:56:39.649949Z",
     "start_time": "2020-05-14T02:56:39.644259Z"
    }
   },
   "outputs": [],
   "source": [
    "x = testing_data.reshape(testing_data.shape[0],-1)"
   ]
  },
  {
   "cell_type": "code",
   "execution_count": null,
   "metadata": {
    "ExecuteTime": {
     "end_time": "2020-04-30T17:41:00.954110Z",
     "start_time": "2020-04-30T17:41:00.951319Z"
    }
   },
   "outputs": [],
   "source": [
    "accuracy_scores = np.zeros(4)"
   ]
  },
  {
   "cell_type": "code",
   "execution_count": null,
   "metadata": {
    "ExecuteTime": {
     "end_time": "2020-05-01T01:38:07.300708Z",
     "start_time": "2020-05-01T01:38:07.290533Z"
    }
   },
   "outputs": [],
   "source": [
    "target_names = ['Forehand Service','Backhand Service','Clear Lob Overhead Forehand','Clear Lob Overhead Backhand','Clear Lob Underarm Forehand',\n",
    "         'Clear Lob Underarm Backhand','Net Shot Underarm Forehand','Net Shot Underarm Backhand','Drop Shot Overhead Forehand','Drop Shot Overhead Backhand',\n",
    "         'Smash Overhead Forehand','Smash Overhead Backhand']     "
   ]
  },
  {
   "cell_type": "markdown",
   "metadata": {},
   "source": [
    "# Baseline Classifiers on the BAR Data"
   ]
  },
  {
   "cell_type": "code",
   "execution_count": null,
   "metadata": {},
   "outputs": [],
   "source": [
    "X_train, X_test, y_train, y_test = train_test_split(X,y ,test_size=0.2, random_state=3)"
   ]
  },
  {
   "cell_type": "code",
   "execution_count": null,
   "metadata": {
    "ExecuteTime": {
     "end_time": "2020-04-30T00:20:37.687910Z",
     "start_time": "2020-04-30T00:16:37.333496Z"
    },
    "scrolled": true
   },
   "outputs": [],
   "source": [
    "cm_cmap=plt.cm.Greens\n",
    "\n",
    "clf =  MLPClassifier().fit(X_train, y_train)\n",
    "prediction = clf.predict(X_test)\n",
    "accuracy_scores[0] = accuracy_score(y_test, prediction)*100\n",
    "cm1 = metrics.confusion_matrix(y_test, prediction)\n",
    "plt.figure(figsize=(8,8))\n",
    "plt.grid(b=False)\n",
    "plot_confusion_matrix(cm1, classes=target_names, normalize=True, title='Normalized confusion matrix', cmap = cm_cmap)\n",
    "report = metrics.classification_report(y_test, prediction, target_names=target_names)\n",
    "\n",
    "print(' MLPClassifier Accuracy: {}%'.format(accuracy_scores[0]))\n",
    "print(report)\n",
    "\n",
    "MLPClassifier = pd.DataFrame(report).transpose()\n",
    "MLPClassifier.to_csv('Classification_Report_MLPClassifier.csv')\n",
    "plt.savefig('Confusion_Matrix_MLPClassifier.png',transparent=True, bbox_inches='tight', pad_inches=0)\n",
    "\n",
    "gnb = GaussianNB()\n",
    "clf =  gnb.fit(X_train, y_train)\n",
    "prediction = clf.predict(X_test)\n",
    "accuracy_scores[0] = accuracy_score(y_test, prediction)*100\n",
    "cm2 = metrics.confusion_matrix(y_test,prediction)\n",
    "plt.figure(figsize=(8,8))\n",
    "plt.grid(b=False)\n",
    "plot_confusion_matrix(cm2, classes=target_names, normalize=True, title='Normalized confusion matrix', cmap = cm_cmap)\n",
    "report = metrics.classification_report(y_test, prediction, target_names=target_names)\n",
    "\n",
    "print('Naive Bayes Classifier Accuracy : {}%'.format(accuracy_scores[0]))\n",
    "print(report)\n",
    "\n",
    "GaussianNBClassifier = pd.DataFrame(report).transpose()\n",
    "GaussianNBClassifier.to_csv('Classification_Report_GaussianNBClassifier.csv')\n",
    "plt.savefig('Confusion_Matrix_GaussianNBClassifier.png',transparent=True, bbox_inches='tight', pad_inches=0)\n",
    "\n",
    "\n",
    "clf = RandomForestClassifier().fit(X_train, y_train)\n",
    "prediction = clf.predict(X_test)\n",
    "accuracy_scores[0] = accuracy_score(y_test, prediction)*100\n",
    "cm3 = metrics.confusion_matrix(y_test, prediction)\n",
    "plt.figure(figsize=(8,8))\n",
    "plt.grid(b=False)\n",
    "plot_confusion_matrix(cm3, classes=target_names, normalize=True, title='Normalized confusion matrix', cmap = cm_cmap)\n",
    "report = metrics.classification_report(y_test, prediction, target_names=target_names)\n",
    "\n",
    "print('Random Forest Classifier Accuracy: {}%'.format(accuracy_scores[0]))\n",
    "print(report)\n",
    "\n",
    "RandomForestClassifier = pd.DataFrame(report).transpose()\n",
    "RandomForestClassifier.to_csv('Classification_Report_RandomForestClassifier.csv')\n",
    "plt.savefig('Confusion_Matrix_RandomForestClassifier.png',transparent=True, bbox_inches='tight', pad_inches=0)\n",
    "\n",
    "clf =  tree.DecisionTreeClassifier().fit(X_train, y_train)\n",
    "prediction = clf.predict(X_test)\n",
    "accuracy_scores[0] = accuracy_score(y_test, prediction)*100\n",
    "cm4 = metrics.confusion_matrix(y_test, prediction)\n",
    "plt.figure(figsize=(8,8))\n",
    "plt.grid(b=False)\n",
    "plot_confusion_matrix(cm4, classes=target_names, normalize=True, title='Normalized confusion matrix', cmap = cm_cmap)\n",
    "report = metrics.classification_report(y_test, prediction, target_names=target_names)\n",
    "\n",
    "print('Decision Tree Classifier Accuracy: {}%'.format(accuracy_scores[0]))\n",
    "print(report)\n",
    "\n",
    "DecisionTreeClassifier = pd.DataFrame(report).transpose()\n",
    "DecisionTreeClassifier.to_csv('Classification_Report_DecisionTreeClassifier.csv')\n",
    "plt.savefig('Confusion_Matrix_DecisionTreeClassifier.png',transparent=True, bbox_inches='tight', pad_inches=0)\n",
    "\n",
    "clf = SVC(kernel = 'linear').fit(X_train, y_train)\n",
    "#clf = SVC(kernel='rbf', random_state=0, gamma=1, C=1).fit(X_train, y_train) \n",
    "prediction = clf.predict(X_test) \n",
    "accuracy_scores[0] = accuracy_score(y_test, prediction)*100\n",
    "cm5 = metrics.confusion_matrix(y_test, prediction)\n",
    "plt.figure(figsize=(8,8))\n",
    "plt.grid(b=False)\n",
    "plot_confusion_matrix(cm5, classes=target_names, normalize=True, title='Normalized confusion matrix', cmap = cm_cmap)\n",
    "report = metrics.classification_report(y_test, prediction, target_names=target_names)\n",
    "\n",
    "print(report)\n",
    "print('SVM MulitclassClassifier Accuracy: {}%'.format(accuracy_scores[0]))\n",
    "\n",
    "SVM MulitclassClassifier = pd.DataFrame(report).transpose()\n",
    "SVM MulitclassClassifier.to_csv('Classification_Report_SVM MulitclassClassifier.csv')\n",
    "plt.savefig('Confusion_Matrix_SVM_Linear_SVM MulitclassClassifier.png',transparent=True, bbox_inches='tight', pad_inches=0)\n",
    "\n",
    "\n",
    "clf = SVC(kernel = 'rbf').fit(X_train, y_train)\n",
    "#clf = SVC(kernel='rbf', random_state=0, gamma=1, C=1).fit(X_train, y_train) \n",
    "prediction = clf.predict(X_test) \n",
    "accuracy_scores[0] = accuracy_score(y_test, prediction)*100\n",
    "cm6 = metrics.confusion_matrix(y_test, prediction)\n",
    "plt.figure(figsize=(8,8))\n",
    "plt.grid(b=False)\n",
    "plot_confusion_matrix(cm6, classes=target_names, normalize=True, title='Normalized confusion matrix', cmap = cm_cmap)\n",
    "report = metrics.classification_report(y_test, prediction, target_names=target_names)\n",
    "\n",
    "print(report)\n",
    "print('SVM RBF MulitclassClassifier Accuracy: {}%'.format(accuracy_scores[0]))\n",
    "\n",
    "SVM RBF MulitclassClassifier = pd.DataFrame(report).transpose()\n",
    "SVM RBF MulitclassClassifier.to_csv('Classification_Report_MVM RBF MulitclassClassifier.csv')\n",
    "plt.savefig('Confusion_Matrix_SVM_RBF_MulitclassClassifier.png',transparent=True, bbox_inches='tight', pad_inches=0)"
   ]
  },
  {
   "cell_type": "code",
   "execution_count": null,
   "metadata": {},
   "outputs": [],
   "source": []
  }
 ],
 "metadata": {
  "kernelspec": {
   "display_name": "Python 3",
   "language": "python",
   "name": "python3"
  },
  "language_info": {
   "codemirror_mode": {
    "name": "ipython",
    "version": 3
   },
   "file_extension": ".py",
   "mimetype": "text/x-python",
   "name": "python",
   "nbconvert_exporter": "python",
   "pygments_lexer": "ipython3",
   "version": "3.6.9"
  },
  "toc": {
   "base_numbering": 1,
   "nav_menu": {},
   "number_sections": true,
   "sideBar": true,
   "skip_h1_title": false,
   "title_cell": "Table of Contents",
   "title_sidebar": "Contents",
   "toc_cell": false,
   "toc_position": {},
   "toc_section_display": true,
   "toc_window_display": false
  }
 },
 "nbformat": 4,
 "nbformat_minor": 4
}
