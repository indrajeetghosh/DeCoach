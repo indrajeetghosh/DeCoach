{
 "cells": [
  {
   "cell_type": "code",
   "execution_count": 1,
   "metadata": {
    "ExecuteTime": {
     "end_time": "2021-05-07T03:05:06.427035Z",
     "start_time": "2021-05-07T03:05:05.289425Z"
    }
   },
   "outputs": [],
   "source": [
    "import warnings\n",
    "warnings.filterwarnings('ignore')\n",
    "\n",
    "import pandas as pd\n",
    "import numpy as np\n",
    "import matplotlib.pyplot as plt\n",
    "import os\n",
    "import itertools\n",
    "import sklearn\n",
    "import keras\n",
    "import json\n",
    "\n",
    "from keras.callbacks import ModelCheckpoint\n",
    "from sklearn import metrics\n",
    "from sklearn import preprocessing\n",
    "from sklearn.model_selection import train_test_split\n",
    "from sklearn.metrics import accuracy_score\n",
    "from sklearn.metrics import classification_report\n",
    "from sklearn.model_selection import cross_val_score\n",
    "from sklearn.preprocessing import OneHotEncoder\n",
    "from sklearn.preprocessing import LabelEncoder\n",
    "\n",
    "\n",
    "from Classfication import model\n",
    "#rom Raw_Data_Read import extract_data\n",
    "from Confusion_Matrix import plot_confusion_matrix\n",
    "\n",
    "%matplotlib inline\n",
    "seed = 5"
   ]
  },
  {
   "cell_type": "code",
   "execution_count": 2,
   "metadata": {},
   "outputs": [],
   "source": [
    "import matplotlib as mpl\n",
    "import pylab\n",
    "\n",
    "mpl.rcParams['lines.linewidth'] = 4\n",
    "mpl.rcParams['lines.color'] = 'r'\n",
    "mpl.rcParams['font.weight'] = 200\n",
    "plt.style.use('seaborn-whitegrid')\n",
    "plt.rc('figure',figsize=(20,10))\n",
    "mpl.axes.Axes.annotate\n",
    "mpl.rcParams['font.family'] = \"serif\"\n",
    "pylab.rcParams['ytick.major.pad']='10'\n",
    "pylab.rcParams['xtick.major.pad']='10'\n",
    "mpl.rcParams['font.weight'] = \"semibold\"\n",
    "mpl.rcParams['axes.labelsize'] = 20\n",
    "mpl.rcParams['axes.linewidth'] = 4\n",
    "mpl.rcParams['xtick.labelsize'] = 20\n",
    "mpl.rcParams['ytick.labelsize'] = 20\n",
    "mpl.rcParams['axes.edgecolor'] = 'black'\n",
    "mpl.rcParams['axes.titlesize'] = 20\n",
    "mpl.rcParams['legend.fontsize'] = 14"
   ]
  },
  {
   "cell_type": "markdown",
   "metadata": {
    "ExecuteTime": {
     "end_time": "2020-07-14T04:55:32.593664Z",
     "start_time": "2020-07-14T04:55:32.585923Z"
    }
   },
   "source": [
    "# Read BAR dataset"
   ]
  },
  {
   "cell_type": "code",
   "execution_count": null,
   "metadata": {},
   "outputs": [],
   "source": [
    "training_person = ['Player']\n",
    "training_sensor = ['Hand','Palm','Right_Leg','Left_Leg']  \n",
    "\n",
    "#testing_person = ['Player']\n",
    "#testing_sensor = ['Hand','Palm','Right_Leg','Left_Leg']  "
   ]
  },
  {
   "cell_type": "code",
   "execution_count": null,
   "metadata": {},
   "outputs": [],
   "source": [
    "training_data,training_label = extract_data(training_person,training_sensor)\n",
    "\n",
    "#testing_data,testing_label = extract_data(testing_person,testing_sensor)"
   ]
  },
  {
   "cell_type": "markdown",
   "metadata": {},
   "source": [
    "# One-Hot-Encoding for the Activity Labels"
   ]
  },
  {
   "cell_type": "code",
   "execution_count": null,
   "metadata": {
    "ExecuteTime": {
     "end_time": "2021-05-07T02:09:27.697327Z",
     "start_time": "2021-05-07T02:09:27.686014Z"
    }
   },
   "outputs": [],
   "source": [
    "training_data.shape"
   ]
  },
  {
   "cell_type": "code",
   "execution_count": null,
   "metadata": {
    "ExecuteTime": {
     "end_time": "2021-05-07T02:09:28.365566Z",
     "start_time": "2021-05-07T02:09:28.333634Z"
    }
   },
   "outputs": [],
   "source": [
    "label_encoder = LabelEncoder()\n",
    "integer_encoded = label_encoder.fit_transform(training_label)\n",
    "#integer_encoded_testing = label_encoder.fit_transform(testing_label)\n",
    "print(integer_encoded)\n",
    "\n",
    "onehot_encoder = OneHotEncoder(sparse=False)\n",
    "integer_encoded = integer_encoded.reshape(len(integer_encoded), 1)\n",
    "#integer_encoded_testing = integer_encoded_testing.reshape(len(integer_encoded_testing), 1)\n",
    "training_label_encoded = onehot_encoder.fit_transform(integer_encoded)\n",
    "#testing_label_encoded = onehot_encoder.fit_transform(integer_encoded_testing)"
   ]
  },
  {
   "cell_type": "markdown",
   "metadata": {
    "ExecuteTime": {
     "end_time": "2019-11-07T05:56:49.404951Z",
     "start_time": "2019-11-07T05:56:36.558Z"
    }
   },
   "source": [
    "# Define Parameters -  Make required changes in the classification.py for time-based decay learning rate tuning"
   ]
  },
  {
   "cell_type": "code",
   "execution_count": null,
   "metadata": {
    "ExecuteTime": {
     "end_time": "2021-05-07T02:07:22.634052Z",
     "start_time": "2021-05-07T02:07:22.499607Z"
    }
   },
   "outputs": [],
   "source": [
    "numOfRows = training_data.shape[1]\n",
    "numOfColumns = training_data.shape[2]\n",
    "numClasses = training_label_encoded.shape[1]\n",
    "\n",
    "\n",
    "reshapedSegments = training_data.reshape(training_data.shape[0], numOfRows, numOfColumns)\n",
    "\n",
    "X_train, X_test, y_train, y_test = train_test_split(reshapedSegments,training_label_encoded ,test_size=0.2, random_state=seed)"
   ]
  },
  {
   "cell_type": "markdown",
   "metadata": {},
   "source": [
    "# Calling the Classfication Model"
   ]
  },
  {
   "cell_type": "code",
   "execution_count": null,
   "metadata": {
    "ExecuteTime": {
     "end_time": "2021-05-07T02:40:43.146646Z",
     "start_time": "2021-05-07T02:40:42.858942Z"
    }
   },
   "outputs": [],
   "source": [
    "model = model()\n",
    "print(model.summary())\n",
    "keras.utils.plot_model(model, show_shapes=True)"
   ]
  },
  {
   "cell_type": "markdown",
   "metadata": {},
   "source": [
    "# Saving the best model"
   ]
  },
  {
   "cell_type": "code",
   "execution_count": null,
   "metadata": {},
   "outputs": [],
   "source": [
    "if not os.path.exists('Classification Results'):\n",
    "    os.makedirs('Classification Results')"
   ]
  },
  {
   "cell_type": "code",
   "execution_count": null,
   "metadata": {},
   "outputs": [],
   "source": [
    "current_date_and_time = datetime.datetime.now()\n",
    "current_date_and_time_string = str(current_date_and_time)\n",
    "\n",
    "checkpoint = ModelCheckpoint(\"Classification Results/Best_Classification_model_\"+current_date_and_time_string+\".hdf5\", monitor='loss', verbose=1, save_best_only=True, mode='auto', period=1)"
   ]
  },
  {
   "cell_type": "markdown",
   "metadata": {},
   "source": [
    "# Model Fit"
   ]
  },
  {
   "cell_type": "code",
   "execution_count": null,
   "metadata": {
    "ExecuteTime": {
     "end_time": "2021-05-07T02:13:31.652748Z",
     "start_time": "2021-05-07T02:13:31.624416Z"
    },
    "scrolled": true
   },
   "outputs": [],
   "source": [
    "model = model()\n",
    "history = model.fit(X_train,y_train,epochs=150,batch_size=400,validation_split=0.25, callbacks=[checkpoint])"
   ]
  },
  {
   "cell_type": "code",
   "execution_count": null,
   "metadata": {
    "ExecuteTime": {
     "end_time": "2019-11-21T17:16:23.580310Z",
     "start_time": "2019-11-21T17:16:14.376Z"
    }
   },
   "outputs": [],
   "source": [
    "np.mean(history.history['acc'][140:150])"
   ]
  },
  {
   "cell_type": "code",
   "execution_count": null,
   "metadata": {
    "ExecuteTime": {
     "end_time": "2019-11-21T17:16:23.581189Z",
     "start_time": "2019-11-21T17:16:15.645Z"
    }
   },
   "outputs": [],
   "source": [
    "np.mean(history.history['val_acc'][140:150])"
   ]
  },
  {
   "cell_type": "code",
   "execution_count": null,
   "metadata": {
    "ExecuteTime": {
     "start_time": "2019-11-11T06:13:14.764Z"
    },
    "scrolled": true
   },
   "outputs": [],
   "source": [
    "model = model()\n",
    "history = model.fit(X_train,y_train,epochs=128,batch_size=300,validation_split=0.2)"
   ]
  },
  {
   "cell_type": "code",
   "execution_count": null,
   "metadata": {
    "ExecuteTime": {
     "end_time": "2019-11-19T06:27:39.551135Z",
     "start_time": "2019-11-19T06:27:36.517443Z"
    }
   },
   "outputs": [],
   "source": [
    "y_pred_test = model.predict(X_test)"
   ]
  },
  {
   "cell_type": "code",
   "execution_count": null,
   "metadata": {
    "ExecuteTime": {
     "end_time": "2019-11-11T06:12:32.865296Z",
     "start_time": "2019-11-11T06:12:32.820837Z"
    }
   },
   "outputs": [],
   "source": [
    "#max_y_pred_test = np.argmax(y_pred_test, axis=1)\n",
    "#max_y_test = onehot_encoder.inverse_transform(y_test)\n",
    "#cm = metrics.confusion_matrix(max_y_test, max_y_pred_test)"
   ]
  },
  {
   "cell_type": "code",
   "execution_count": null,
   "metadata": {
    "ExecuteTime": {
     "end_time": "2019-11-19T06:27:39.599709Z",
     "start_time": "2019-11-19T06:27:39.595298Z"
    }
   },
   "outputs": [],
   "source": [
    "np.histogram(max_y_pred_test)"
   ]
  },
  {
   "cell_type": "code",
   "execution_count": null,
   "metadata": {
    "ExecuteTime": {
     "end_time": "2019-11-19T06:27:39.611838Z",
     "start_time": "2019-11-19T06:27:39.603466Z"
    }
   },
   "outputs": [],
   "source": [
    "y_test[0,:]"
   ]
  },
  {
   "cell_type": "code",
   "execution_count": null,
   "metadata": {
    "ExecuteTime": {
     "end_time": "2019-11-19T06:27:39.626405Z",
     "start_time": "2019-11-19T06:27:39.613694Z"
    }
   },
   "outputs": [],
   "source": [
    "print(accuracy_score(max_y_test, max_y_pred_test))"
   ]
  },
  {
   "cell_type": "code",
   "execution_count": null,
   "metadata": {
    "ExecuteTime": {
     "end_time": "2019-11-19T06:27:39.637991Z",
     "start_time": "2019-11-19T06:27:39.628699Z"
    }
   },
   "outputs": [],
   "source": [
    "history.history.keys()"
   ]
  },
  {
   "cell_type": "markdown",
   "metadata": {},
   "source": [
    "# Plot the Results"
   ]
  },
  {
   "cell_type": "code",
   "execution_count": null,
   "metadata": {},
   "outputs": [],
   "source": [
    "Person = ['Player1']"
   ]
  },
  {
   "cell_type": "code",
   "execution_count": null,
   "metadata": {
    "ExecuteTime": {
     "end_time": "2019-11-19T06:29:42.560371Z",
     "start_time": "2019-11-19T06:29:42.000313Z"
    }
   },
   "outputs": [],
   "source": [
    "fig = plt.figure(figsize=(12,8))\n",
    "plt.plot(history.history['acc'])\n",
    "plt.plot(history.history['val_acc'])\n",
    "plt.title('Model accuracy')\n",
    "plt.ylabel('Accuracy')\n",
    "plt.xlabel('Epoch')\n",
    "plt.legend(['Train', 'Validation'], loc='upper left')\n",
    "plt.show()\n",
    "fig.savefig(\"Classification Results/Model_Accuracy_\"+Person\"_Hand_Palm_\"+current_date_and_time_string+\".png\",dpi=300, bbox_inches='tight', pad_inches=0)\n",
    "\n",
    "\n",
    "fig = plt.figure(figsize=(12,8))\n",
    "plt.plot(history.history['loss'])\n",
    "plt.plot(history.history['val_loss'])\n",
    "plt.title('Model loss')\n",
    "plt.ylabel('Loss')\n",
    "plt.xlabel('Epoch')\n",
    "plt.legend(['Train', 'Validation'], loc='upper left')\n",
    "plt.show()\n",
    "fig.savefig(\"Classification Results/Training_Validation_Loss_\"+Person\"_Hand_Palm_\"+current_date_and_time_string+\".png\",dpi=300, bbox_inches='tight', pad_inches=0)"
   ]
  },
  {
   "cell_type": "markdown",
   "metadata": {},
   "source": [
    "# Plot Confusion Matrix"
   ]
  },
  {
   "cell_type": "code",
   "execution_count": null,
   "metadata": {
    "ExecuteTime": {
     "end_time": "2019-11-19T06:27:40.094695Z",
     "start_time": "2019-11-19T06:27:40.091806Z"
    }
   },
   "outputs": [],
   "source": [
    "target_names = ['Forehand Service','Backhand Service','Clear Lob Overhead Forehand','Clear Lob Overhead Backhand','Clear Lob Underarm Forehand',\n",
    "         'Clear Lob Underarm Backhand','Net Shot Underarm Forehand','Net Shot Underarm Backhand','Drop Shot Overhead Forehand','Drop Shot Overhead Backhand',\n",
    "         'Smash Overhead Forehand','Smash Overhead Backhand']"
   ]
  },
  {
   "cell_type": "code",
   "execution_count": null,
   "metadata": {
    "ExecuteTime": {
     "end_time": "2019-11-19T06:37:40.525807Z",
     "start_time": "2019-11-19T06:37:39.042907Z"
    }
   },
   "outputs": [],
   "source": [
    "cm_cmap=plt.cm.Blues\n",
    "plt.figure(figsize=(8,8))\n",
    "plt.grid(b=False)\n",
    "plot_confusion_matrix(cm, classes=target_names, normalize=True, title='Normalized confusion matrix', cmap = cm_cmap)\n",
    "plt.savefig('Classification Results/Confusion_Matrix.png', bbox_inches='tight', pad_inches=0,dpi=300)"
   ]
  },
  {
   "cell_type": "markdown",
   "metadata": {},
   "source": [
    "# Classification Metrics"
   ]
  },
  {
   "cell_type": "code",
   "execution_count": null,
   "metadata": {},
   "outputs": [],
   "source": [
    "FP = cm.sum(axis=0) - np.diag(cm) \n",
    "FN = cm.sum(axis=1) - np.diag(cm)\n",
    "TP = np.diag(cm)\n",
    "TN = cm.sum() - (FP + FN + TP)\n",
    "\n",
    "FP = FP.astype(float)\n",
    "FN = FN.astype(float)\n",
    "TP = TP.astype(float)\n",
    "TN = TN.astype(float)\n",
    "\n",
    "FP = np.average(FP)\n",
    "FN = np.average(FN)\n",
    "TP = np.average(TP)\n",
    "TN = np.average(TN)\n",
    "\n",
    "\n",
    "recall = TP / (TP + FN)\n",
    "inverse_recall = TN / (FP + TN)\n",
    "precision = TP / (TP + FP)\n",
    "inverse_precision = TN / (FN + TN)\n",
    "\n",
    "\n",
    "informedness = recall + inverse_recall - 1\n",
    "markedness = precision + inverse_precision -1\n",
    "F1_Score = 2 * (precision * recall) / (precision + recall)"
   ]
  },
  {
   "cell_type": "code",
   "execution_count": null,
   "metadata": {},
   "outputs": [],
   "source": [
    "print(f\"Recall : \", recall)\n",
    "print(f\"Precision : \", precision)\n",
    "print(f\"F1-Score : \", F1_Score)\n",
    "print(f\"Informedness : \", informedness)\n",
    "print(f\"Markedness : \", markedness)"
   ]
  },
  {
   "cell_type": "markdown",
   "metadata": {},
   "source": [
    "# Accuracy Plots"
   ]
  },
  {
   "cell_type": "code",
   "execution_count": 4,
   "metadata": {},
   "outputs": [
    {
     "data": {
      "image/png": "[encoded data removed]",
      "text/plain": [
       "<Figure size 1440x720 with 1 Axes>"
      ]
     },
     "metadata": {},
     "output_type": "display_data"
    },
    {
     "data": {
      "text/plain": [
       "<Figure size 1440x720 with 0 Axes>"
      ]
     },
     "metadata": {},
     "output_type": "display_data"
    }
   ],
   "source": [
    "DT = [62.6, 62, 63, 63, 63.32, 63.32]\n",
    "RF = [79.7, 80, 80, 80, 80, 80]\n",
    "SVM = [57.82, 58, 58, 58, 57.5, 57.0]\n",
    "MLP = [50.05, 51, 50, 50, 49.6, 49.7]\n",
    "CNN = [95.21, 95, 95, 95, 94.9, 95.3]\n",
    "\n",
    "labels = ['Accuracy' , 'Precision', 'Recall','F1 Score','Informedness','Markedness']\n",
    "\n",
    "barWidth = 0.18\n",
    "r1 = np.arange(len(DT))\n",
    "r2 = [x + barWidth for x in r1]\n",
    "r3 = [x + barWidth for x in r2]\n",
    "r4 = [x + barWidth for x in r3]\n",
    "r5 = [x + barWidth for x in r4]\n",
    "\n",
    "fig, ax = plt.subplots()\n",
    "rects1 = ax.bar(r1, DT, width=barWidth, edgecolor='black',linewidth=2, label='DT',color = 'lightblue')\n",
    "rects2 = ax.bar(r2, RF, width=barWidth, edgecolor='black', linewidth=2,label='RF',color= 'lightsalmon')\n",
    "rects3 = ax.bar(r3, SVM, width=barWidth, edgecolor='black', label='SVM',linewidth=2)\n",
    "rects4 = ax.bar(r4, MLP, width=barWidth, edgecolor='black', label='MLP',linewidth=2,color= 'cyan')\n",
    "rects5 = ax.bar(r5, CNN, width=barWidth, edgecolor='black', label='CNN',linewidth=2, color ='lightgreen')\n",
    "\n",
    "# Add text for labels, title and custom x-axis tick labels\n",
    "ax.set_ylabel('Percentage',fontweight='bold',fontsize=28)\n",
    "ax.set_xticks(r1)\n",
    "plt.xticks([r + barWidth for r in range(len(r1))], ['Accuracy', 'Precision', 'Recall', 'F1 Score','Informedness','Markedness'],fontweight='bold',fontsize=20, rotation = 45)\n",
    "ax.legend(loc='upper left', prop={'weight':'bold','size': 15})\n",
    "\n",
    "\n",
    "\n",
    "def autolabel(rects):\n",
    "    for rect in rects:\n",
    "        height = rect.get_height()\n",
    "        ax.annotate('{}'.format(height),\n",
    "                    xy=(rect.get_x() + rect.get_width() / 2, height),\n",
    "                    xytext=(0, 1),  # 3 points vertical offset\n",
    "                    textcoords=\"offset points\",\n",
    "                    ha='center', va='bottom',fontsize=17, fontweight='bold' )\n",
    "\n",
    "\n",
    "#autolabel(rects1)\n",
    "#autolabel(rects2)\n",
    "#autolabel(rects3)\n",
    "#autolabel(rects4)\n",
    "#autolabel(rects5)\n",
    "\n",
    "fig.tight_layout(pad=2.9, w_pad=4.0, h_pad=4.0)\n",
    "\n",
    "plt.show()\n",
    "plt.savefig(\"Accuracy.png\", format='png',bbox_inches='tight', pad_inches=0,dpi=300)"
   ]
  },
  {
   "cell_type": "markdown",
   "metadata": {},
   "source": [
    "# Dumping the results"
   ]
  },
  {
   "cell_type": "code",
   "execution_count": null,
   "metadata": {},
   "outputs": [],
   "source": []
  },
  {
   "cell_type": "code",
   "execution_count": null,
   "metadata": {},
   "outputs": [],
   "source": [
    "dict_vals = {'PRECISION': precision,\n",
    "                 'RECALL': recall,\n",
    "                 'F1_SCORE': F1_Score,\n",
    "                 'INFORMEDNESS': informedness,\n",
    "                 'MARKEDNESS': markedness\n",
    "                 }\n",
    "\n",
    "json_dump = json.dumps(dict_vals)\n",
    "f = open(\"Classification Results/Metrics_deep_learning_classification_\"+current_date_and_time_string+\".json\", \"w\")\n",
    "f.write(json_dump)\n",
    "f.close()\n",
    "\n",
    "print(f\"Successful!! Files stored\")"
   ]
  }
 ],
 "metadata": {
  "kernelspec": {
   "display_name": "Python 3",
   "language": "python",
   "name": "python3"
  },
  "language_info": {
   "codemirror_mode": {
    "name": "ipython",
    "version": 3
   },
   "file_extension": ".py",
   "mimetype": "text/x-python",
   "name": "python",
   "nbconvert_exporter": "python",
   "pygments_lexer": "ipython3",
   "version": "3.6.9"
  },
  "toc": {
   "base_numbering": 1,
   "nav_menu": {},
   "number_sections": true,
   "sideBar": true,
   "skip_h1_title": false,
   "title_cell": "Table of Contents",
   "title_sidebar": "Contents",
   "toc_cell": false,
   "toc_position": {},
   "toc_section_display": true,
   "toc_window_display": false
  }
 },
 "nbformat": 4,
 "nbformat_minor": 4
}
