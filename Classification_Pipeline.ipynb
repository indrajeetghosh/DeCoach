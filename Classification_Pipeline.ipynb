{
 "cells": [
  {
   "cell_type": "code",
   "execution_count": null,
   "metadata": {
    "ExecuteTime": {
     "end_time": "2021-05-07T03:05:06.427035Z",
     "start_time": "2021-05-07T03:05:05.289425Z"
    }
   },
   "outputs": [],
   "source": [
    "import warnings\n",
    "warnings.filterwarnings('ignore')\n",
    "\n",
    "import pandas as pd\n",
    "import numpy as np\n",
    "import matplotlib.pyplot as plt\n",
    "import os\n",
    "import itertools\n",
    "import sklearn\n",
    "import keras\n",
    "\n",
    "from sklearn import metrics\n",
    "from sklearn import preprocessing\n",
    "from sklearn.model_selection import train_test_split\n",
    "from sklearn.metrics import accuracy_score\n",
    "from sklearn.metrics import classification_report\n",
    "from sklearn.model_selection import cross_val_score\n",
    "from sklearn.preprocessing import OneHotEncoder\n",
    "from sklearn.preprocessing import LabelEncoder\n",
    "from sklearn.metrics import confusion_matrix\n",
    "\n",
    "from Classfication import model\n",
    "from Raw_Data_Read import extract_data\n",
    "\n",
    "%matplotlib inline\n",
    "seed = 5"
   ]
  },
  {
   "cell_type": "markdown",
   "metadata": {
    "ExecuteTime": {
     "end_time": "2020-07-14T04:55:32.593664Z",
     "start_time": "2020-07-14T04:55:32.585923Z"
    }
   },
   "source": [
    "# Input"
   ]
  },
  {
   "cell_type": "code",
   "execution_count": null,
   "metadata": {},
   "outputs": [],
   "source": [
    "training_person = ['Player']\n",
    "training_sensor = ['Hand','Palm','Right_Leg','Left_Leg']  \n",
    "\n",
    "#testing_person = ['Player']\n",
    "#testing_sensor = ['Hand','Palm','Right_Leg','Left_Leg']  "
   ]
  },
  {
   "cell_type": "code",
   "execution_count": null,
   "metadata": {},
   "outputs": [],
   "source": [
    "training_data,training_label = extract_data(training_person,training_sensor)\n",
    "\n",
    "#testing_data,testing_label = extract_data(testing_person,testing_sensor)"
   ]
  },
  {
   "cell_type": "markdown",
   "metadata": {},
   "source": [
    "# One-Hot-Encoding for the Activity Labels"
   ]
  },
  {
   "cell_type": "code",
   "execution_count": null,
   "metadata": {
    "ExecuteTime": {
     "end_time": "2021-05-07T02:09:27.697327Z",
     "start_time": "2021-05-07T02:09:27.686014Z"
    }
   },
   "outputs": [],
   "source": [
    "training_data.shape"
   ]
  },
  {
   "cell_type": "code",
   "execution_count": null,
   "metadata": {
    "ExecuteTime": {
     "end_time": "2021-05-07T02:09:28.365566Z",
     "start_time": "2021-05-07T02:09:28.333634Z"
    }
   },
   "outputs": [],
   "source": [
    "label_encoder = LabelEncoder()\n",
    "integer_encoded = label_encoder.fit_transform(training_label)\n",
    "#integer_encoded_testing = label_encoder.fit_transform(testing_label)\n",
    "print(integer_encoded)\n",
    "\n",
    "onehot_encoder = OneHotEncoder(sparse=False)\n",
    "integer_encoded = integer_encoded.reshape(len(integer_encoded), 1)\n",
    "#integer_encoded_testing = integer_encoded_testing.reshape(len(integer_encoded_testing), 1)\n",
    "training_label_encoded = onehot_encoder.fit_transform(integer_encoded)\n",
    "#testing_label_encoded = onehot_encoder.fit_transform(integer_encoded_testing)"
   ]
  },
  {
   "cell_type": "markdown",
   "metadata": {
    "ExecuteTime": {
     "end_time": "2019-11-07T05:56:49.404951Z",
     "start_time": "2019-11-07T05:56:36.558Z"
    }
   },
   "source": [
    "# Define Parameters "
   ]
  },
  {
   "cell_type": "code",
   "execution_count": null,
   "metadata": {
    "ExecuteTime": {
     "end_time": "2021-05-07T02:07:22.634052Z",
     "start_time": "2021-05-07T02:07:22.499607Z"
    }
   },
   "outputs": [],
   "source": [
    "numOfRows = training_data.shape[1]\n",
    "numOfColumns = training_data.shape[2]\n",
    "numClasses = training_label_encoded.shape[1]\n",
    "\n",
    "\n",
    "reshapedSegments = training_data.reshape(training_data.shape[0], numOfRows, numOfColumns)\n",
    "\n",
    "X_train, X_test, y_train, y_test = train_test_split(reshapedSegments,training_label_encoded ,test_size=0.2, random_state=seed)"
   ]
  },
  {
   "cell_type": "markdown",
   "metadata": {},
   "source": [
    "# Calling the Classfication Model"
   ]
  },
  {
   "cell_type": "code",
   "execution_count": null,
   "metadata": {
    "ExecuteTime": {
     "end_time": "2021-05-07T02:40:43.146646Z",
     "start_time": "2021-05-07T02:40:42.858942Z"
    }
   },
   "outputs": [],
   "source": [
    "model = model()\n",
    "print(model.summary())\n",
    "keras.utils.plot_model(model, show_shapes=True)"
   ]
  },
  {
   "cell_type": "markdown",
   "metadata": {},
   "source": [
    "# Model Fit"
   ]
  },
  {
   "cell_type": "code",
   "execution_count": null,
   "metadata": {
    "ExecuteTime": {
     "end_time": "2021-05-07T02:13:31.652748Z",
     "start_time": "2021-05-07T02:13:31.624416Z"
    },
    "scrolled": true
   },
   "outputs": [],
   "source": [
    "model = model()\n",
    "history = model.fit(X_train,y_train,epochs=150,batch_size=400,validation_split=0.25)"
   ]
  },
  {
   "cell_type": "code",
   "execution_count": null,
   "metadata": {
    "ExecuteTime": {
     "end_time": "2019-11-21T17:16:23.580310Z",
     "start_time": "2019-11-21T17:16:14.376Z"
    }
   },
   "outputs": [],
   "source": [
    "np.mean(history.history['acc'][140:150])"
   ]
  },
  {
   "cell_type": "code",
   "execution_count": null,
   "metadata": {
    "ExecuteTime": {
     "end_time": "2019-11-21T17:16:23.581189Z",
     "start_time": "2019-11-21T17:16:15.645Z"
    }
   },
   "outputs": [],
   "source": [
    "np.mean(history.history['val_acc'][140:150])"
   ]
  },
  {
   "cell_type": "code",
   "execution_count": null,
   "metadata": {
    "ExecuteTime": {
     "start_time": "2019-11-11T06:13:14.764Z"
    },
    "scrolled": true
   },
   "outputs": [],
   "source": [
    "model = model()\n",
    "history = model.fit(X_train,y_train,epochs=128,batch_size=300,validation_split=0.2)"
   ]
  },
  {
   "cell_type": "code",
   "execution_count": null,
   "metadata": {
    "ExecuteTime": {
     "end_time": "2019-11-19T06:27:39.551135Z",
     "start_time": "2019-11-19T06:27:36.517443Z"
    }
   },
   "outputs": [],
   "source": [
    "y_pred_test = model.predict(X_test)"
   ]
  },
  {
   "cell_type": "code",
   "execution_count": null,
   "metadata": {
    "ExecuteTime": {
     "end_time": "2019-11-19T06:27:39.588239Z",
     "start_time": "2019-11-19T06:27:39.559119Z"
    }
   },
   "outputs": [],
   "source": [
    "max_y_pred_test = np.argmax(y_pred_test, axis=1)\n",
    "max_y_test = np.argmax(y_test, axis=1)\n",
    "cm = metrics.confusion_matrix(max_y_test, max_y_pred_test)"
   ]
  },
  {
   "cell_type": "code",
   "execution_count": null,
   "metadata": {
    "ExecuteTime": {
     "end_time": "2019-11-11T06:12:32.865296Z",
     "start_time": "2019-11-11T06:12:32.820837Z"
    }
   },
   "outputs": [],
   "source": [
    "max_y_pred_test = np.argmax(y_pred_test, axis=1)\n",
    "max_y_test = onehot_encoder.inverse_transform(y_test)\n",
    "cm = metrics.confusion_matrix(max_y_test, max_y_pred_test)"
   ]
  },
  {
   "cell_type": "code",
   "execution_count": null,
   "metadata": {
    "ExecuteTime": {
     "end_time": "2019-11-19T06:27:39.599709Z",
     "start_time": "2019-11-19T06:27:39.595298Z"
    }
   },
   "outputs": [],
   "source": [
    "np.histogram(max_y_pred_test)"
   ]
  },
  {
   "cell_type": "code",
   "execution_count": null,
   "metadata": {
    "ExecuteTime": {
     "end_time": "2019-11-19T06:27:39.611838Z",
     "start_time": "2019-11-19T06:27:39.603466Z"
    }
   },
   "outputs": [],
   "source": [
    "y_test[0,:]"
   ]
  },
  {
   "cell_type": "code",
   "execution_count": null,
   "metadata": {
    "ExecuteTime": {
     "end_time": "2019-11-19T06:27:39.626405Z",
     "start_time": "2019-11-19T06:27:39.613694Z"
    }
   },
   "outputs": [],
   "source": [
    "print(accuracy_score(max_y_test, max_y_pred_test))"
   ]
  },
  {
   "cell_type": "code",
   "execution_count": null,
   "metadata": {
    "ExecuteTime": {
     "end_time": "2019-11-19T06:27:39.637991Z",
     "start_time": "2019-11-19T06:27:39.628699Z"
    }
   },
   "outputs": [],
   "source": [
    "history.history.keys()"
   ]
  },
  {
   "cell_type": "markdown",
   "metadata": {},
   "source": [
    "# Plot the Results"
   ]
  },
  {
   "cell_type": "code",
   "execution_count": null,
   "metadata": {
    "ExecuteTime": {
     "end_time": "2019-11-19T06:29:42.560371Z",
     "start_time": "2019-11-19T06:29:42.000313Z"
    }
   },
   "outputs": [],
   "source": [
    "fig = plt.figure(figsize=(12,8))\n",
    "plt.plot(history.history['acc'])\n",
    "plt.plot(history.history['val_acc'])\n",
    "plt.title('Model accuracy')\n",
    "plt.ylabel('Accuracy')\n",
    "plt.xlabel('Epoch')\n",
    "#plt.ylim([0.5, 1])\n",
    "plt.legend(['Train', 'Validation'], loc='upper left')\n",
    "plt.show()\n",
    "fig.savefig('Model_Accuracy_Avijoy_Hand_Palm.jpg',dpi=300, bbox_inches='tight', pad_inches=0)\n",
    "\n",
    "\n",
    "fig = plt.figure(figsize=(12,8))\n",
    "plt.plot(history.history['loss'])\n",
    "plt.plot(history.history['val_loss'])\n",
    "plt.title('Model loss')\n",
    "plt.ylabel('Loss')\n",
    "plt.xlabel('Epoch')\n",
    "#plt.ylim([0.5, 1])\n",
    "plt.legend(['Train', 'Validation'], loc='upper left')\n",
    "plt.show()\n",
    "fig.savefig('Training_Validation_Loss_Participant_Hand_Palm.jpg',dpi=300, bbox_inches='tight', pad_inches=0)"
   ]
  },
  {
   "cell_type": "code",
   "execution_count": null,
   "metadata": {},
   "outputs": [],
   "source": [
    "def plot_confusion_matrix (cm, classes, normalize=False,title='Confusion matrix',cmap=plt.cm.Blues):\n",
    "    if normalize:\n",
    "        cm = cm.astype('float') / cm.sum(axis=1)[:, np.newaxis]\n",
    "\n",
    "    plt.figure(figsize=(8,8))\n",
    "    plt.grid(b=False)    \n",
    "    plt.imshow(cm, interpolation='nearest', cmap=cmap)\n",
    "    plt.title(title)\n",
    "    plt.colorbar()\n",
    "    tick_marks = np.arange(len(classes))\n",
    "    plt.xticks(tick_marks, classes, rotation=90)\n",
    "    plt.yticks(tick_marks, classes)\n",
    "\n",
    "    fmt = '.2f' if normalize else 'd'\n",
    "    thresh = cm.max() / 2.\n",
    "    for i, j in itertools.product(range(cm.shape[0]), range(cm.shape[1])):\n",
    "        plt.text(j, i, format(cm[i, j], fmt),\n",
    "                 horizontalalignment=\"center\",\n",
    "                 color=\"white\" if cm[i, j] > thresh else \"black\")\n",
    "\n",
    "    plt.tight_layout()\n",
    "    plt.ylabel('True label')\n",
    "    plt.xlabel('Predicted label')"
   ]
  },
  {
   "cell_type": "code",
   "execution_count": null,
   "metadata": {
    "ExecuteTime": {
     "end_time": "2019-11-19T06:27:40.094695Z",
     "start_time": "2019-11-19T06:27:40.091806Z"
    }
   },
   "outputs": [],
   "source": [
    "target_names = ['Forehand Service','Backhand Service','Clear Lob Overhead Forehand','Clear Lob Overhead Backhand','Clear Lob Underarm Forehand',\n",
    "         'Clear Lob Underarm Backhand','Net Shot Underarm Forehand','Net Shot Underarm Backhand','Drop Shot Overhead Forehand','Drop Shot Overhead Backhand',\n",
    "         'Smash Overhead Forehand','Smash Overhead Backhand']"
   ]
  },
  {
   "cell_type": "code",
   "execution_count": null,
   "metadata": {
    "ExecuteTime": {
     "end_time": "2019-11-19T06:37:40.525807Z",
     "start_time": "2019-11-19T06:37:39.042907Z"
    }
   },
   "outputs": [],
   "source": [
    "cm_cmap=plt.cm.Greens\n",
    "cm = metrics.confusion_matrix(max_y_test, max_y_pred_test)\n",
    "plt.figure(figsize=(8,8))\n",
    "plt.grid(b=False)\n",
    "plot_confusion_matrix(cm, classes=target_names, normalize=True, title='Normalized confusion matrix', cmap = cm_cmap)\n",
    "plt.savefig('Confusion_Matrix.png', bbox_inches='tight', pad_inches=0,dpi=300)"
   ]
  },
  {
   "cell_type": "code",
   "execution_count": null,
   "metadata": {},
   "outputs": [],
   "source": []
  }
 ],
 "metadata": {
  "kernelspec": {
   "display_name": "Python 3",
   "language": "python",
   "name": "python3"
  },
  "language_info": {
   "codemirror_mode": {
    "name": "ipython",
    "version": 3
   },
   "file_extension": ".py",
   "mimetype": "text/x-python",
   "name": "python",
   "nbconvert_exporter": "python",
   "pygments_lexer": "ipython3",
   "version": "3.6.9"
  },
  "toc": {
   "base_numbering": 1,
   "nav_menu": {},
   "number_sections": true,
   "sideBar": true,
   "skip_h1_title": false,
   "title_cell": "Table of Contents",
   "title_sidebar": "Contents",
   "toc_cell": false,
   "toc_position": {},
   "toc_section_display": true,
   "toc_window_display": false
  }
 },
 "nbformat": 4,
 "nbformat_minor": 2
}
