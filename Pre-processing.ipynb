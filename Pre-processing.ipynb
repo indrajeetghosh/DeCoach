{
 "cells": [
  {
   "cell_type": "code",
   "execution_count": 3,
   "id": "green-status",
   "metadata": {},
   "outputs": [],
   "source": [
    "import warnings\n",
    "warnings.filterwarnings('ignore')\n",
    "\n",
    "import pandas as pd\n",
    "import scipy.io as sio\n",
    "import numpy as np\n",
    "import itertools\n",
    "import os\n",
    "import h5py\n",
    "\n",
    "\n",
    "from Normalize import normalize\n",
    "from windowfunction import windows, segment_signal, segment_Activity_Label, segment_Score_Label\n",
    "\n",
    "from numpy import array, mean, std, dstack,argmax"
   ]
  },
  {
   "cell_type": "code",
   "execution_count": null,
   "id": "polish-bidder",
   "metadata": {},
   "outputs": [],
   "source": [
    "PATH = ''\n",
    "Filename = PATH"
   ]
  },
  {
   "cell_type": "code",
   "execution_count": null,
   "id": "adapted-savings",
   "metadata": {},
   "outputs": [],
   "source": [
    "X_Raw_Data = pd.read_csv(\"Filename\", index = False)"
   ]
  },
  {
   "cell_type": "code",
   "execution_count": null,
   "id": "smaller-medium",
   "metadata": {},
   "outputs": [],
   "source": [
    "Features = normalize(X_Raw_Data)"
   ]
  },
  {
   "cell_type": "code",
   "execution_count": null,
   "id": "spread-bread",
   "metadata": {},
   "outputs": [],
   "source": [
    "window_size = 64\n",
    "overlap = 32"
   ]
  },
  {
   "cell_type": "code",
   "execution_count": null,
   "id": "metropolitan-valve",
   "metadata": {},
   "outputs": [],
   "source": [
    "X_full_appended_temp = np.asarray(Features)\n",
    "X_full_appended = segment_signal(X_full_appended_temp,window_size,overlap)\n",
    "X_full_appended = X_full_appended.reshape(X_full_appended.shape[1],X_full_appended.shape[0],X_full_appended.shape[2])\n",
    "\n",
    "Activity_Label_full_temp = np.asarray(Activity_Label)\n",
    "Activity_Label_full_temp = np.squeeze(np.ndarray.tolist(Activity_Label_full_temp))\n",
    "Activity_Label_full_temp = y_full_temp.reshape(len(Activity_Label_full_temp),1)\n",
    "Activity_Label_full = segment_label(Activity_Label_full_temp,window_size,overlap)\n",
    "\n",
    "Score_Label_full_temp = np.asarray(Score_Label)\n",
    "Score_Label_full_temp = np.squeeze(np.ndarray.tolist(Score_Label_full_temp))\n",
    "Score_Label_full_temp = y_full_temp.reshape(len(Score_Label_full_temp),1)\n",
    "Score_Label_full = segment_Label(Score_Label_full_temp,window_size,overlap)"
   ]
  },
  {
   "cell_type": "markdown",
   "id": "assigned-prison",
   "metadata": {},
   "source": [
    "# Save each limb preprocessed data separately "
   ]
  },
  {
   "cell_type": "code",
   "execution_count": 4,
   "id": "successful-stanley",
   "metadata": {},
   "outputs": [],
   "source": [
    "if not os.path.exists('Preprocessed Dataset'):\n",
    "    os.makedirs('Preprocessed Dataset')"
   ]
  },
  {
   "cell_type": "code",
   "execution_count": null,
   "id": "informed-documentary",
   "metadata": {},
   "outputs": [],
   "source": [
    "Person = ['Player 1']\n",
    "Limb = #[Palm, Hand, Right_Leg, Left_Leg]"
   ]
  },
  {
   "cell_type": "code",
   "execution_count": null,
   "id": "published-paste",
   "metadata": {},
   "outputs": [],
   "source": [
    "np.save(\"Preprocessed Dataset/\"Person+\"_\"+Limb\"_testing_X_data\",X_full_appended)"
   ]
  },
  {
   "cell_type": "code",
   "execution_count": null,
   "id": "driving-comedy",
   "metadata": {},
   "outputs": [],
   "source": [
    "np.save(\"Preprocessed Dataset/\"Person+\"_\"+Limb\"_testing_Activity_Label_data\",Activity_Label_full)"
   ]
  },
  {
   "cell_type": "code",
   "execution_count": null,
   "id": "broke-married",
   "metadata": {},
   "outputs": [],
   "source": [
    "np.save(\"Preprocessed Dataset/\"Person+\"_\"+Limb\"_testing_Score_Label_data\",Score_Label_full)"
   ]
  }
 ],
 "metadata": {
  "kernelspec": {
   "display_name": "Python 3",
   "language": "python",
   "name": "python3"
  },
  "language_info": {
   "codemirror_mode": {
    "name": "ipython",
    "version": 3
   },
   "file_extension": ".py",
   "mimetype": "text/x-python",
   "name": "python",
   "nbconvert_exporter": "python",
   "pygments_lexer": "ipython3",
   "version": "3.6.9"
  },
  "toc": {
   "base_numbering": 1,
   "nav_menu": {},
   "number_sections": true,
   "sideBar": true,
   "skip_h1_title": false,
   "title_cell": "Table of Contents",
   "title_sidebar": "Contents",
   "toc_cell": false,
   "toc_position": {},
   "toc_section_display": true,
   "toc_window_display": false
  }
 },
 "nbformat": 4,
 "nbformat_minor": 5
}
