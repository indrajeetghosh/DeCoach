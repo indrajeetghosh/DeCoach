{
 "cells": [
  {
   "cell_type": "code",
   "execution_count": null,
   "id": "under-porcelain",
   "metadata": {},
   "outputs": [],
   "source": [
    "import warnings\n",
    "warnings.filterwarnings('ignore')\n",
    "\n",
    "# import keras\n",
    "import pandas as pd\n",
    "# import tensorflow as tf\n",
    "import scipy.io as sio\n",
    "import numpy as np\n",
    "import itertools\n",
    "import matplotlib.pyplot as plt\n",
    "import os\n",
    "import h5py\n",
    "\n",
    "from numpy import array, mean, std, dstack,argmax\n",
    "from pandas import read_csv\n",
    "from matplotlib import pyplot\n",
    "\n",
    "warnings.filterwarnings('ignore')"
   ]
  },
  {
   "cell_type": "code",
   "execution_count": null,
   "id": "balanced-richards",
   "metadata": {},
   "outputs": [],
   "source": [
    "Filename = '..'"
   ]
  },
  {
   "cell_type": "code",
   "execution_count": null,
   "id": "divided-boring",
   "metadata": {},
   "outputs": [],
   "source": [
    "df= pd.read_csv(\"Filename\",header=None)"
   ]
  },
  {
   "cell_type": "code",
   "execution_count": null,
   "id": "threatened-inflation",
   "metadata": {},
   "outputs": [],
   "source": [
    "def normalize(X_Raw_Data):\n",
    "    result = df4.copy()\n",
    "    for feature_name in df4.columns:\n",
    "        max_value = df4[feature_name].max()\n",
    "        min_value = df4[feature_name].min()\n",
    "        result[feature_name] = (df4[feature_name] - min_value) / (max_value - min_value)\n",
    "    return result"
   ]
  },
  {
   "cell_type": "code",
   "execution_count": null,
   "id": "active-basis",
   "metadata": {},
   "outputs": [],
   "source": [
    "Features = normalize(X_Raw_Data)"
   ]
  },
  {
   "cell_type": "code",
   "execution_count": null,
   "id": "dental-package",
   "metadata": {},
   "outputs": [],
   "source": [
    "def windows(series,window_size,overlap):\n",
    "    start = 0\n",
    "    while start+window_size <= series.shape[0]:\n",
    "        yield int(start), int(start + window_size)\n",
    "        start += window_size - overlap\n",
    "        \n",
    "        \n",
    "def segment_signal(series,window_size,overlap):\n",
    "    windowed_series = np.array([])\n",
    "    for k in range(series.shape[1]):\n",
    "        print(\"Windowing Column %d\"%(k))\n",
    "        temp_series = np.array([])\n",
    "        for (start, end) in windows(series,window_size,overlap):\n",
    "            if start==0:\n",
    "                temp_series = series[start:end,k].T\n",
    "            else:\n",
    "                temp_series = np.vstack([temp_series,series[start:end,k].T])\n",
    "        if k==0:\n",
    "            windowed_series = temp_series\n",
    "        else:\n",
    "            windowed_series = np.vstack([windowed_series,temp_series])\n",
    "    windowed_series = windowed_series.reshape((k+1,int(windowed_series.shape[0]/(k+1)),window_size))\n",
    "    return windowed_series\n",
    "\n",
    "def segment_Activity_Label(label_series,window_size,overlap):\n",
    "    windowed_labels = np.array([])\n",
    "    for (start, end) in windows(label_series,window_size,overlap):\n",
    "\n",
    "        if start==0:\n",
    "            windowed_labels = max(label_series[start:end])[0]\n",
    "        else:\n",
    "            windowed_labels = np.vstack([windowed_labels,max(label_series[start:end])[0]])\n",
    "    return windowed_labels  \n",
    "\n",
    "def segment_Score_Label(Label_series,window_size,overlap):\n",
    "    windowed_Labels = np.array([])\n",
    "    for (start, end) in windows(Label_series,window_size,overlap):\n",
    "\n",
    "        if start==0:\n",
    "            windowed_Labels = np.mean(Label_series[start:end])#[[0]]\n",
    "        else:\n",
    "            windowed_Labels = np.vstack([windowed_Labels,np.mean(Label_series[start:end])])#[0]])\n",
    "    return windowed_Labels"
   ]
  },
  {
   "cell_type": "code",
   "execution_count": null,
   "id": "radical-sullivan",
   "metadata": {},
   "outputs": [],
   "source": [
    "window_size = 64\n",
    "overlap = 32"
   ]
  },
  {
   "cell_type": "code",
   "execution_count": null,
   "id": "intimate-distinction",
   "metadata": {},
   "outputs": [],
   "source": [
    "X_full_appended_temp = np.asarray(Features)\n",
    "X_full_appended = segment_signal(X_full_appended_temp,window_size,overlap)\n",
    "X_full_appended = X_full_appended.reshape(X_full_appended.shape[1],X_full_appended.shape[0],X_full_appended.shape[2])\n",
    "\n",
    "Activity_Label_full_temp = np.asarray(Activity_Label)\n",
    "Activity_Label_full_temp = np.squeeze(np.ndarray.tolist(Activity_Label_full_temp))\n",
    "Activity_Label_full_temp = y_full_temp.reshape(len(Activity_Label_full_temp),1)\n",
    "Activity_Label_full = segment_label(Activity_Label_full_temp,window_size,overlap)\n",
    "\n",
    "Score_Label_full_temp = np.asarray(Score_Label)\n",
    "Score_Label_full_temp = np.squeeze(np.ndarray.tolist(Score_Label_full_temp))\n",
    "Score_Label_full_temp = y_full_temp.reshape(len(Score_Label_full_temp),1)\n",
    "Score_Label_full = segment_Label(Score_Label_full_temp,window_size,overlap)"
   ]
  },
  {
   "cell_type": "code",
   "execution_count": null,
   "id": "institutional-receipt",
   "metadata": {},
   "outputs": [],
   "source": [
    "Person = ['Player 1']\n",
    "Limb = ['Palm'] #Palm, Hand, Right_Leg, Left_Leg"
   ]
  },
  {
   "cell_type": "code",
   "execution_count": null,
   "id": "productive-writer",
   "metadata": {},
   "outputs": [],
   "source": [
    "np.save(\"../dataset/Preprocessed Data/\"Person+\"_\"+Limb\"_testing_X_data\",X_full_appended)"
   ]
  },
  {
   "cell_type": "code",
   "execution_count": null,
   "id": "emotional-timothy",
   "metadata": {},
   "outputs": [],
   "source": [
    "np.save(\"../dataset/Preprocessed Data/\"Person+\"_\"+Limb\"_testing_Activity_Label_data\",Activity_Label_full)"
   ]
  },
  {
   "cell_type": "code",
   "execution_count": null,
   "id": "growing-exception",
   "metadata": {},
   "outputs": [],
   "source": [
    "np.save(\"../dataset/Preprocessed Data/\"Person+\"_\"+Limb\"_testing_Score_Label_data\",Score_Label_full)"
   ]
  }
 ],
 "metadata": {
  "kernelspec": {
   "display_name": "Python 3",
   "language": "python",
   "name": "python3"
  },
  "language_info": {
   "codemirror_mode": {
    "name": "ipython",
    "version": 3
   },
   "file_extension": ".py",
   "mimetype": "text/x-python",
   "name": "python",
   "nbconvert_exporter": "python",
   "pygments_lexer": "ipython3",
   "version": "3.6.9"
  },
  "toc": {
   "base_numbering": 1,
   "nav_menu": {},
   "number_sections": true,
   "sideBar": true,
   "skip_h1_title": false,
   "title_cell": "Table of Contents",
   "title_sidebar": "Contents",
   "toc_cell": false,
   "toc_position": {},
   "toc_section_display": true,
   "toc_window_display": false
  }
 },
 "nbformat": 4,
 "nbformat_minor": 5
}
